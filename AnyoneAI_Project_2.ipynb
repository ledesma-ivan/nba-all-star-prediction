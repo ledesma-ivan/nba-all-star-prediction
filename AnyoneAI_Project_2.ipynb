{
  "cells": [
    {
      "cell_type": "markdown",
      "id": "3d08028c-be52-4d84-a995-34b690c3e8a5",
      "metadata": {
        "id": "3d08028c-be52-4d84-a995-34b690c3e8a5"
      },
      "source": [
        "# AnyoneAI - Project II\n",
        "\n",
        "# Making Estimations with our NBA dataset"
      ]
    },
    {
      "cell_type": "markdown",
      "id": "4ff2f3cb-7e1a-4705-bce7-44a56c0113e1",
      "metadata": {
        "id": "4ff2f3cb-7e1a-4705-bce7-44a56c0113e1"
      },
      "source": [
        "In our first project, we learn how to create our own datasets by using a public API, Python and Pandas. We're now going to explore how to make predictive models for regression and classification tasks using ScikitLearn"
      ]
    },
    {
      "cell_type": "markdown",
      "id": "5b732b5b-8fcc-4917-85a1-035bfc00a7dd",
      "metadata": {
        "id": "5b732b5b-8fcc-4917-85a1-035bfc00a7dd"
      },
      "source": [
        "The goals of this project are:\n",
        "- Learn how to define a prediction task\n",
        "- Selecting evaluation metrics and baseline models\n",
        "- Perform feature engineering and standarization\n",
        "- Training and using predictive models: Univariable and Multivariate Linear Regression, Classification\n",
        "- Understand how Gradient Descent works by implementing a Linear Regressor in python"
      ]
    },
    {
      "cell_type": "markdown",
      "id": "73bd1212-887d-4b10-a277-30156aaf410b",
      "metadata": {
        "id": "73bd1212-887d-4b10-a277-30156aaf410b",
        "tags": []
      },
      "source": [
        "## Using Regression Models to Estimate players Salaries"
      ]
    },
    {
      "cell_type": "markdown",
      "id": "e51670c9-30ec-4dcf-b3f4-e5ba90019818",
      "metadata": {
        "id": "e51670c9-30ec-4dcf-b3f4-e5ba90019818"
      },
      "source": [
        "A player's salary can be explained by a lot of factors: \n",
        "\n",
        "- Years in the league: NBA contracts are limited in price, players have caps on how much money they make depending on their years playing in the league\n",
        "- Age: Highly correlated to the previous one, NBA players have a minimun age of 19 years\n",
        "- Draft position: players out of USA universities are selected each year through a process called draft, in which each team selects a player in a predefined order for 2 rounds (meaning only 60 players are drafted each year). A rookie contract value depends on the draft position. (Undrafted players have to negotiate a salary independently)\n",
        "- Performance in statistical categories: after the rookie contract, players can negotiate freely with teams, and usually statistical categories like points, rebounds and assists are extremely important.  \n",
        "- Team: Even though there are limits to what all teams can expend in players salary, they all allocate their resources differently, and can be more willing to pay the penalties incurred by exceeding those limitations.\n",
        "- Year in which the contract was signed: the mininum and maximum values of contracts possibles in the NBA changes depending on league revenue (television contracts, sponsorships, etc), so if the amount of money the teams make increases, players can negotiate bigger contracts.\n",
        "- Intangibles: players can be valued also in things that are not easily translated to a statistic, good defensive players might not always have great stats but can be extremely important for a team, the same can be said about veteran players that help young ones to learn and are good locker-room guys.\n",
        "\n",
        "But we're going to take a simplified approach, we'll try to use the data we already have to make the best estimator possible, and then we will analyze what went right and what could've gone wrong with our results."
      ]
    },
    {
      "cell_type": "markdown",
      "id": "6f110fec-8919-4427-89f7-b3e581176703",
      "metadata": {
        "id": "6f110fec-8919-4427-89f7-b3e581176703"
      },
      "source": [
        "### Analyzing our data"
      ]
    },
    {
      "cell_type": "code",
      "execution_count": null,
      "id": "bdac389b-e5f8-4563-a187-36b016c0641c",
      "metadata": {
        "id": "bdac389b-e5f8-4563-a187-36b016c0641c"
      },
      "outputs": [],
      "source": [
        "import pandas as pd\n",
        "data = pd.read_csv(\"https://raw.githubusercontent.com/anyoneai/notebooks/main/datasets/project2_players_df.csv\")\n",
        "data.dropna(subset=[\"PTS\"], inplace=True)"
      ]
    },
    {
      "cell_type": "code",
      "execution_count": null,
      "id": "3e6a0976",
      "metadata": {
        "id": "3e6a0976",
        "outputId": "1a70bcb6-e5d8-4ff4-fc97-cb236fc17c80"
      },
      "outputs": [
        {
          "name": "stdout",
          "output_type": "stream",
          "text": [
            "Requirement already satisfied: category_encoders in /home/ivan/anaconda3/lib/python3.8/site-packages (2.4.0)\n",
            "Requirement already satisfied: scipy>=1.0.0 in /home/ivan/anaconda3/lib/python3.8/site-packages (from category_encoders) (1.6.2)\n",
            "Requirement already satisfied: statsmodels>=0.9.0 in /home/ivan/anaconda3/lib/python3.8/site-packages (from category_encoders) (0.12.2)\n",
            "Requirement already satisfied: scikit-learn>=0.20.0 in /home/ivan/anaconda3/lib/python3.8/site-packages (from category_encoders) (1.0.2)\n",
            "Requirement already satisfied: numpy>=1.14.0 in /home/ivan/anaconda3/lib/python3.8/site-packages (from category_encoders) (1.22.3)\n",
            "Requirement already satisfied: patsy>=0.5.1 in /home/ivan/anaconda3/lib/python3.8/site-packages (from category_encoders) (0.5.1)\n",
            "Requirement already satisfied: pandas>=0.21.1 in /home/ivan/anaconda3/lib/python3.8/site-packages (from category_encoders) (1.2.4)\n",
            "Requirement already satisfied: python-dateutil>=2.7.3 in /home/ivan/anaconda3/lib/python3.8/site-packages (from pandas>=0.21.1->category_encoders) (2.8.2)\n",
            "Requirement already satisfied: pytz>=2017.3 in /home/ivan/anaconda3/lib/python3.8/site-packages (from pandas>=0.21.1->category_encoders) (2021.1)\n",
            "Requirement already satisfied: six in /home/ivan/anaconda3/lib/python3.8/site-packages (from patsy>=0.5.1->category_encoders) (1.16.0)\n",
            "Requirement already satisfied: threadpoolctl>=2.0.0 in /home/ivan/anaconda3/lib/python3.8/site-packages (from scikit-learn>=0.20.0->category_encoders) (2.1.0)\n",
            "Requirement already satisfied: joblib>=0.11 in /home/ivan/anaconda3/lib/python3.8/site-packages (from scikit-learn>=0.20.0->category_encoders) (1.0.1)\n"
          ]
        }
      ],
      "source": [
        "!pip install category_encoders\n",
        "import matplotlib.pyplot as plt\n",
        "import seaborn as sns\n",
        "from matplotlib import pyplot as plt \n",
        "from sklearn.model_selection import train_test_split\n",
        "from sklearn.metrics import mean_absolute_error\n",
        "from sklearn import preprocessing\n",
        "from sklearn.preprocessing import MinMaxScaler\n",
        "import category_encoders as ce\n",
        "from sklearn.linear_model import LinearRegression\n",
        "import numpy as np\n",
        "\n",
        "from sklearn.linear_model import SGDRegressor\n",
        "\n",
        "from sklearn.tree import DecisionTreeRegressor\n",
        "from sklearn.linear_model import LogisticRegression\n",
        "\n",
        "import warnings\n",
        "\n",
        "from sklearn.preprocessing import StandardScaler\n",
        "\n",
        "from sklearn.preprocessing import OneHotEncoder\n",
        "import plotly.express as px\n",
        "\n",
        "\n",
        "from sklearn.metrics import precision_score\n",
        "from sklearn.metrics import accuracy_score\n",
        "from sklearn.metrics import recall_score\n",
        "from sklearn.metrics import f1_score"
      ]
    },
    {
      "cell_type": "markdown",
      "id": "c3cc6b89-e698-4943-8562-160190b9cbd0",
      "metadata": {
        "id": "c3cc6b89-e698-4943-8562-160190b9cbd0"
      },
      "source": [
        "Let's have another look at our previously generated dataset. "
      ]
    },
    {
      "cell_type": "markdown",
      "id": "e098b76d-c520-474b-9998-a263354fe27b",
      "metadata": {
        "id": "e098b76d-c520-474b-9998-a263354fe27b"
      },
      "source": [
        "1.1. Plot all players statistics (\"PTS\", \"REB\", \"AST\",\"STL\",\"BLK\") against salary"
      ]
    },
    {
      "cell_type": "markdown",
      "id": "52b5219c",
      "metadata": {
        "id": "52b5219c"
      },
      "source": [
        "The previous graphics were better but they didn't load :p"
      ]
    },
    {
      "cell_type": "code",
      "execution_count": null,
      "id": "215ca0de",
      "metadata": {
        "id": "215ca0de",
        "outputId": "ac928c3f-a3c1-460d-8536-9155dc5047a7"
      },
      "outputs": [
        {
          "data": {
            "text/plain": [
              "<AxesSubplot:xlabel='REB', ylabel='Salary'>"
            ]
          },
          "execution_count": 494,
          "metadata": {},
          "output_type": "execute_result"
        },
        {
          "data": {
            "image/png": "[encoded data removed]",
            "text/plain": [
              "<Figure size 432x288 with 1 Axes>"
            ]
          },
          "metadata": {
            "needs_background": "light"
          },
          "output_type": "display_data"
        }
      ],
      "source": [
        "sns.regplot(x=data['REB'], y=data['Salary'])"
      ]
    },
    {
      "cell_type": "code",
      "execution_count": null,
      "id": "50d589f1-25c1-48f8-88f3-e2c7f0e72625",
      "metadata": {
        "id": "50d589f1-25c1-48f8-88f3-e2c7f0e72625",
        "outputId": "8c01a9b2-ed4e-4547-965a-e742384f7b1f"
      },
      "outputs": [
        {
          "data": {
            "text/plain": [
              "<AxesSubplot:xlabel='REB', ylabel='Salary'>"
            ]
          },
          "execution_count": 760,
          "metadata": {},
          "output_type": "execute_result"
        },
        {
          "data": {
            "image/png": "[encoded data removed]",
            "text/plain": [
              "<Figure size 432x288 with 1 Axes>"
            ]
          },
          "metadata": {
            "needs_background": "light"
          },
          "output_type": "display_data"
        }
      ],
      "source": [
        "sns.regplot(x=data['REB'], y=data['Salary'])\n"
      ]
    },
    {
      "cell_type": "code",
      "execution_count": null,
      "id": "fff81e78",
      "metadata": {
        "id": "fff81e78",
        "outputId": "fb68589d-9a99-4c80-80a2-722bb913c2d1"
      },
      "outputs": [
        {
          "data": {
            "text/plain": [
              "<AxesSubplot:xlabel='AST', ylabel='Salary'>"
            ]
          },
          "execution_count": 496,
          "metadata": {},
          "output_type": "execute_result"
        },
        {
          "data": {
            "image/png": "[encoded data removed]",
            "text/plain": [
              "<Figure size 432x288 with 1 Axes>"
            ]
          },
          "metadata": {
            "needs_background": "light"
          },
          "output_type": "display_data"
        }
      ],
      "source": [
        "sns.regplot(x=data['AST'], y=data['Salary'])\n"
      ]
    },
    {
      "cell_type": "code",
      "execution_count": null,
      "id": "8e4b9773",
      "metadata": {
        "id": "8e4b9773",
        "outputId": "011c4dba-8e8c-4cc3-c807-90cd81e21bc1"
      },
      "outputs": [
        {
          "data": {
            "text/plain": [
              "<AxesSubplot:xlabel='STL', ylabel='Salary'>"
            ]
          },
          "execution_count": 497,
          "metadata": {},
          "output_type": "execute_result"
        },
        {
          "data": {
            "image/png": "[encoded data removed]",
            "text/plain": [
              "<Figure size 432x288 with 1 Axes>"
            ]
          },
          "metadata": {
            "needs_background": "light"
          },
          "output_type": "display_data"
        }
      ],
      "source": [
        "sns.regplot(x=data['STL'], y=data['Salary'])"
      ]
    },
    {
      "cell_type": "code",
      "execution_count": null,
      "id": "394125eb",
      "metadata": {
        "id": "394125eb",
        "outputId": "2e0b99f8-a8f2-4c7a-8da4-a350ddd5fabc"
      },
      "outputs": [
        {
          "data": {
            "text/plain": [
              "<AxesSubplot:xlabel='BLK', ylabel='Salary'>"
            ]
          },
          "execution_count": 498,
          "metadata": {},
          "output_type": "execute_result"
        },
        {
          "data": {
            "image/png": "[encoded data removed]",
            "text/plain": [
              "<Figure size 432x288 with 1 Axes>"
            ]
          },
          "metadata": {
            "needs_background": "light"
          },
          "output_type": "display_data"
        }
      ],
      "source": [
        "sns.regplot(x=data['BLK'], y=data['Salary'])\n"
      ]
    },
    {
      "cell_type": "markdown",
      "id": "bbf0fe81-4aed-4dd9-8500-0919b4ec1e07",
      "metadata": {
        "id": "bbf0fe81-4aed-4dd9-8500-0919b4ec1e07"
      },
      "source": [
        "1.2. What can we say about these distributions?"
      ]
    },
    {
      "cell_type": "markdown",
      "id": "2f78c8ed",
      "metadata": {
        "id": "2f78c8ed"
      },
      "source": [
        "Those who score more points tend to earn more wages and the same thing happens with thefts and assistance and \n",
        "the data is corelated to salary"
      ]
    },
    {
      "cell_type": "markdown",
      "id": "17735366-22bf-4cd8-a392-9dfb01652da0",
      "metadata": {
        "id": "17735366-22bf-4cd8-a392-9dfb01652da0"
      },
      "source": [
        "### Splitting the Dataset"
      ]
    },
    {
      "cell_type": "markdown",
      "id": "02450fb0-829c-420b-b65c-ea553a9a81a2",
      "metadata": {
        "id": "02450fb0-829c-420b-b65c-ea553a9a81a2"
      },
      "source": [
        "1.3. Split the dataset into train and testing sets. Use the Sklearn function for train/test splitting. Make sure to set the random state for reproducibility."
      ]
    },
    {
      "cell_type": "code",
      "execution_count": null,
      "id": "d532e0fb-e478-48a0-971b-1ad1d428fe95",
      "metadata": {
        "id": "d532e0fb-e478-48a0-971b-1ad1d428fe95"
      },
      "outputs": [],
      "source": [
        "y = data.Salary\n",
        "\n",
        "X = data.drop(\"Salary\", axis=1) \n",
        "\n",
        "\n",
        "X_train, X_test, y_train, y_test = train_test_split(X, y, test_size = 0.3, random_state=8)\n",
        "\n",
        "\n"
      ]
    },
    {
      "cell_type": "markdown",
      "id": "6aec0deb-7efe-438c-8a4a-39f940aeb474",
      "metadata": {
        "id": "6aec0deb-7efe-438c-8a4a-39f940aeb474"
      },
      "source": [
        "### Baseline Model and Evaluation Metric"
      ]
    },
    {
      "cell_type": "markdown",
      "id": "40ca78ad-8dc1-4b13-99bd-27dcd138a809",
      "metadata": {
        "id": "40ca78ad-8dc1-4b13-99bd-27dcd138a809"
      },
      "source": [
        "In every project, we need a baseline model that implements a very simple algorithm or heuristic so we can compare our results with it. \n",
        "In this case, we could create a function that always returns the average player salary, evaluate that, and then compare the result with our modeling to see if we are improving. "
      ]
    },
    {
      "cell_type": "markdown",
      "id": "71a7eb29-2bdf-4faf-93e9-3206dbc9cca2",
      "metadata": {
        "id": "71a7eb29-2bdf-4faf-93e9-3206dbc9cca2"
      },
      "source": [
        "We need an evaluation metric to see how well our models fit the data. For this project we will use [Mean Absolute Error](https://scikit-learn.org/stable/modules/generated/sklearn.metrics.mean_absolute_error.html#sklearn.metrics.mean_absolute_error) as our regression evaluation metric, because it is a really simple metric to interpret. A lower value means the model performs better. \n",
        "\n",
        "For this particular problem, we will always round the value, as we don't need decimals for this task."
      ]
    },
    {
      "cell_type": "markdown",
      "id": "cefd619d-e6b0-4e70-acf8-f0f4a90fe896",
      "metadata": {
        "id": "cefd619d-e6b0-4e70-acf8-f0f4a90fe896"
      },
      "source": [
        "1.4. Create a Baseline model class that implements  fit() and predict() methods. As this model will not consider any other variable, the fit method should only receive a list of all players salaries. The predict method should receive and iterable and return a numpy array with the same length but every element should have the same value (the average salary)"
      ]
    },
    {
      "cell_type": "code",
      "execution_count": null,
      "id": "8ee01164-1ef2-44dc-8baa-74b630444577",
      "metadata": {
        "id": "8ee01164-1ef2-44dc-8baa-74b630444577"
      },
      "outputs": [],
      "source": [
        "class BaselineModel():\n",
        "    \"\"\"A baseline model that always returns the same value, the mean of the players salary in the train data\"\"\"\n",
        "    \n",
        "    def fit(self, y_train):\n",
        "        \"\"\"\n",
        "        Fit the training data. \n",
        "        \n",
        "        \n",
        "        \n",
        "        Parameters\n",
        "        ----------\n",
        "        y_train: Union[pd.Series, np.ndarray]\n",
        "            a pandas series or numpy array containing salary information\n",
        "            \n",
        "        \"\"\"\n",
        "        self.mean = np.mean(y_train)\n",
        "\n",
        "    def predict(self, X):\n",
        "        \n",
        "        \n",
        "        \"\"\"\n",
        "        Predict salaries \n",
        "        \n",
        "        Parameters\n",
        "        ----------\n",
        "        X: Union[pd.DataFrame, pd.Series, np.ndarray]\n",
        "            a pandas series, dataframe or numpy array with the \n",
        "        \n",
        "        Returns\n",
        "        \n",
        "        -------\n",
        "    \n",
        "        np.ndarray\n",
        "            a numpy array of the same length as X, with all elements equal to the mean salary calculated in fit()\n",
        "        \"\"\"\n",
        "        self.X = len(X)\n",
        "        \n",
        "        return np.array(([self.mean] * self.X)) \n",
        "\n",
        "\n",
        "\n",
        "\n",
        "    \n",
        "\n",
        "\n",
        "\n",
        "\n",
        "        "
      ]
    },
    {
      "cell_type": "markdown",
      "id": "6a1a8134-48a4-4c66-84d2-39030242ef5f",
      "metadata": {
        "id": "6a1a8134-48a4-4c66-84d2-39030242ef5f"
      },
      "source": [
        "1.5. Evaluate the performance of our BaselineModel on the test set using mean_absolute_error from Sklearn (round the result)"
      ]
    },
    {
      "cell_type": "code",
      "execution_count": null,
      "id": "fb72f39b-e7fc-4cd8-bd23-ee4407a80eed",
      "metadata": {
        "id": "fb72f39b-e7fc-4cd8-bd23-ee4407a80eed",
        "outputId": "b5dc66a4-b959-4a3d-9500-eca94db0fb83"
      },
      "outputs": [
        {
          "data": {
            "text/plain": [
              "7640684.55"
            ]
          },
          "execution_count": 501,
          "metadata": {},
          "output_type": "execute_result"
        }
      ],
      "source": [
        "bm = BaselineModel()\n",
        "\n",
        "bm.fit(y_train)\n",
        "\n",
        "\n",
        "y_pred = bm.predict(X_test)\n",
        "\n",
        "baseline_mae = mean_absolute_error(y_pred, y_test)\n",
        "\n",
        "baseline_mae = round(baseline_mae, 2)\n",
        "\n",
        "baseline_mae"
      ]
    },
    {
      "cell_type": "markdown",
      "id": "fc4dff42-e36c-478d-bfd3-7541f3f36f16",
      "metadata": {
        "id": "fc4dff42-e36c-478d-bfd3-7541f3f36f16"
      },
      "source": [
        "### Regression with a single variable"
      ]
    },
    {
      "cell_type": "markdown",
      "id": "c9597b03-31fd-4a9c-8dad-9479666355cd",
      "metadata": {
        "id": "c9597b03-31fd-4a9c-8dad-9479666355cd"
      },
      "source": [
        "You're now going to start modeling data. We will start with a really simple approach, selecting just one variable, and doing a regression to see if we improve upon our baseline.\n"
      ]
    },
    {
      "cell_type": "markdown",
      "id": "af92eeac-cbfb-45cb-8626-246332c69624",
      "metadata": {
        "id": "af92eeac-cbfb-45cb-8626-246332c69624"
      },
      "source": [
        "1.6. Select the variable you think would provide the best fit. Perform feature scaling on this variable using a Sklearn scaler."
      ]
    },
    {
      "cell_type": "code",
      "execution_count": null,
      "id": "9542c842",
      "metadata": {
        "id": "9542c842",
        "outputId": "87e8e010-ad2c-4306-cf4c-2c884932cfc5"
      },
      "outputs": [
        {
          "data": {
            "text/html": [
              "<style  type=\"text/css\" >\n",
              "#T_9d7a1_row0_col0,#T_9d7a1_row1_col1,#T_9d7a1_row2_col2,#T_9d7a1_row3_col3,#T_9d7a1_row4_col4,#T_9d7a1_row5_col5,#T_9d7a1_row6_col6,#T_9d7a1_row7_col7,#T_9d7a1_row8_col8,#T_9d7a1_row9_col9,#T_9d7a1_row10_col10,#T_9d7a1_row11_col11{\n",
              "            background-color:  #b40426;\n",
              "            color:  #f1f1f1;\n",
              "        }#T_9d7a1_row0_col1,#T_9d7a1_row9_col10{\n",
              "            background-color:  #97b8ff;\n",
              "            color:  #000000;\n",
              "        }#T_9d7a1_row0_col2,#T_9d7a1_row9_col1,#T_9d7a1_row9_col2{\n",
              "            background-color:  #5d7ce6;\n",
              "            color:  #000000;\n",
              "        }#T_9d7a1_row0_col3,#T_9d7a1_row0_col4,#T_9d7a1_row0_col5,#T_9d7a1_row0_col6,#T_9d7a1_row0_col7,#T_9d7a1_row0_col9,#T_9d7a1_row0_col10,#T_9d7a1_row0_col11,#T_9d7a1_row1_col8,#T_9d7a1_row3_col0,#T_9d7a1_row4_col0,#T_9d7a1_row8_col1,#T_9d7a1_row8_col2{\n",
              "            background-color:  #3b4cc0;\n",
              "            color:  #f1f1f1;\n",
              "        }#T_9d7a1_row0_col8{\n",
              "            background-color:  #5875e1;\n",
              "            color:  #000000;\n",
              "        }#T_9d7a1_row1_col0,#T_9d7a1_row7_col8{\n",
              "            background-color:  #cdd9ec;\n",
              "            color:  #000000;\n",
              "        }#T_9d7a1_row1_col2,#T_9d7a1_row8_col9{\n",
              "            background-color:  #ee8468;\n",
              "            color:  #000000;\n",
              "        }#T_9d7a1_row1_col3,#T_9d7a1_row10_col11{\n",
              "            background-color:  #d3dbe7;\n",
              "            color:  #000000;\n",
              "        }#T_9d7a1_row1_col4{\n",
              "            background-color:  #d1dae9;\n",
              "            color:  #000000;\n",
              "        }#T_9d7a1_row1_col5,#T_9d7a1_row1_col6,#T_9d7a1_row10_col8{\n",
              "            background-color:  #89acfd;\n",
              "            color:  #000000;\n",
              "        }#T_9d7a1_row1_col7{\n",
              "            background-color:  #f5c2aa;\n",
              "            color:  #000000;\n",
              "        }#T_9d7a1_row1_col9{\n",
              "            background-color:  #516ddb;\n",
              "            color:  #000000;\n",
              "        }#T_9d7a1_row1_col10{\n",
              "            background-color:  #f6bda2;\n",
              "            color:  #000000;\n",
              "        }#T_9d7a1_row1_col11,#T_9d7a1_row3_col1,#T_9d7a1_row8_col0{\n",
              "            background-color:  #9fbfff;\n",
              "            color:  #000000;\n",
              "        }#T_9d7a1_row2_col0{\n",
              "            background-color:  #b9d0f9;\n",
              "            color:  #000000;\n",
              "        }#T_9d7a1_row2_col1,#T_9d7a1_row5_col9{\n",
              "            background-color:  #ea7b60;\n",
              "            color:  #000000;\n",
              "        }#T_9d7a1_row2_col3{\n",
              "            background-color:  #e9d5cb;\n",
              "            color:  #000000;\n",
              "        }#T_9d7a1_row2_col4,#T_9d7a1_row3_col7{\n",
              "            background-color:  #e8d6cc;\n",
              "            color:  #000000;\n",
              "        }#T_9d7a1_row2_col5{\n",
              "            background-color:  #a5c3fe;\n",
              "            color:  #000000;\n",
              "        }#T_9d7a1_row2_col6{\n",
              "            background-color:  #a9c6fd;\n",
              "            color:  #000000;\n",
              "        }#T_9d7a1_row2_col7,#T_9d7a1_row7_col4,#T_9d7a1_row7_col6{\n",
              "            background-color:  #f7b194;\n",
              "            color:  #000000;\n",
              "        }#T_9d7a1_row2_col8{\n",
              "            background-color:  #5572df;\n",
              "            color:  #000000;\n",
              "        }#T_9d7a1_row2_col9{\n",
              "            background-color:  #6c8ff1;\n",
              "            color:  #000000;\n",
              "        }#T_9d7a1_row2_col10,#T_9d7a1_row3_col11{\n",
              "            background-color:  #f3c7b1;\n",
              "            color:  #000000;\n",
              "        }#T_9d7a1_row2_col11,#T_9d7a1_row4_col2{\n",
              "            background-color:  #b2ccfb;\n",
              "            color:  #000000;\n",
              "        }#T_9d7a1_row3_col2,#T_9d7a1_row11_col10{\n",
              "            background-color:  #b3cdfb;\n",
              "            color:  #000000;\n",
              "        }#T_9d7a1_row3_col4,#T_9d7a1_row4_col3{\n",
              "            background-color:  #b8122a;\n",
              "            color:  #f1f1f1;\n",
              "        }#T_9d7a1_row3_col5,#T_9d7a1_row7_col3,#T_9d7a1_row9_col11{\n",
              "            background-color:  #f7b79b;\n",
              "            color:  #000000;\n",
              "        }#T_9d7a1_row3_col6,#T_9d7a1_row4_col9{\n",
              "            background-color:  #f3c8b2;\n",
              "            color:  #000000;\n",
              "        }#T_9d7a1_row3_col8{\n",
              "            background-color:  #e6d7cf;\n",
              "            color:  #000000;\n",
              "        }#T_9d7a1_row3_col9,#T_9d7a1_row10_col4{\n",
              "            background-color:  #f0cdbb;\n",
              "            color:  #000000;\n",
              "        }#T_9d7a1_row3_col10{\n",
              "            background-color:  #b1cbfc;\n",
              "            color:  #000000;\n",
              "        }#T_9d7a1_row4_col1,#T_9d7a1_row11_col2{\n",
              "            background-color:  #9dbdff;\n",
              "            color:  #000000;\n",
              "        }#T_9d7a1_row4_col5,#T_9d7a1_row6_col3{\n",
              "            background-color:  #f7a98b;\n",
              "            color:  #000000;\n",
              "        }#T_9d7a1_row4_col6,#T_9d7a1_row10_col2{\n",
              "            background-color:  #f6bea4;\n",
              "            color:  #000000;\n",
              "        }#T_9d7a1_row4_col7{\n",
              "            background-color:  #edd2c3;\n",
              "            color:  #000000;\n",
              "        }#T_9d7a1_row4_col8{\n",
              "            background-color:  #ecd3c5;\n",
              "            color:  #000000;\n",
              "        }#T_9d7a1_row4_col10{\n",
              "            background-color:  #b5cdfa;\n",
              "            color:  #000000;\n",
              "        }#T_9d7a1_row4_col11,#T_9d7a1_row8_col3{\n",
              "            background-color:  #f6bfa6;\n",
              "            color:  #000000;\n",
              "        }#T_9d7a1_row5_col0{\n",
              "            background-color:  #81a4fb;\n",
              "            color:  #000000;\n",
              "        }#T_9d7a1_row5_col1,#T_9d7a1_row11_col0{\n",
              "            background-color:  #85a8fc;\n",
              "            color:  #000000;\n",
              "        }#T_9d7a1_row5_col2{\n",
              "            background-color:  #8badfd;\n",
              "            color:  #000000;\n",
              "        }#T_9d7a1_row5_col3{\n",
              "            background-color:  #f59d7e;\n",
              "            color:  #000000;\n",
              "        }#T_9d7a1_row5_col4,#T_9d7a1_row5_col8,#T_9d7a1_row6_col8,#T_9d7a1_row8_col5{\n",
              "            background-color:  #f29072;\n",
              "            color:  #000000;\n",
              "        }#T_9d7a1_row5_col6{\n",
              "            background-color:  #d0473d;\n",
              "            color:  #f1f1f1;\n",
              "        }#T_9d7a1_row5_col7,#T_9d7a1_row8_col11,#T_9d7a1_row11_col8{\n",
              "            background-color:  #f7b093;\n",
              "            color:  #000000;\n",
              "        }#T_9d7a1_row5_col10{\n",
              "            background-color:  #c1d4f4;\n",
              "            color:  #000000;\n",
              "        }#T_9d7a1_row5_col11{\n",
              "            background-color:  #f59c7d;\n",
              "            color:  #000000;\n",
              "        }#T_9d7a1_row6_col0{\n",
              "            background-color:  #8caffe;\n",
              "            color:  #000000;\n",
              "        }#T_9d7a1_row6_col1{\n",
              "            background-color:  #90b2fe;\n",
              "            color:  #000000;\n",
              "        }#T_9d7a1_row6_col2{\n",
              "            background-color:  #98b9ff;\n",
              "            color:  #000000;\n",
              "        }#T_9d7a1_row6_col4,#T_9d7a1_row9_col6{\n",
              "            background-color:  #f5a081;\n",
              "            color:  #000000;\n",
              "        }#T_9d7a1_row6_col5{\n",
              "            background-color:  #cf453c;\n",
              "            color:  #f1f1f1;\n",
              "        }#T_9d7a1_row6_col7,#T_9d7a1_row7_col2{\n",
              "            background-color:  #f7b599;\n",
              "            color:  #000000;\n",
              "        }#T_9d7a1_row6_col9{\n",
              "            background-color:  #f6a283;\n",
              "            color:  #000000;\n",
              "        }#T_9d7a1_row6_col10{\n",
              "            background-color:  #bcd2f7;\n",
              "            color:  #000000;\n",
              "        }#T_9d7a1_row6_col11{\n",
              "            background-color:  #ec7f63;\n",
              "            color:  #000000;\n",
              "        }#T_9d7a1_row7_col0{\n",
              "            background-color:  #96b7ff;\n",
              "            color:  #000000;\n",
              "        }#T_9d7a1_row7_col1{\n",
              "            background-color:  #f7bca1;\n",
              "            color:  #000000;\n",
              "        }#T_9d7a1_row7_col5,#T_9d7a1_row9_col4{\n",
              "            background-color:  #f7a889;\n",
              "            color:  #000000;\n",
              "        }#T_9d7a1_row7_col9{\n",
              "            background-color:  #e3d9d3;\n",
              "            color:  #000000;\n",
              "        }#T_9d7a1_row7_col10{\n",
              "            background-color:  #f39577;\n",
              "            color:  #000000;\n",
              "        }#T_9d7a1_row7_col11{\n",
              "            background-color:  #f2cbb7;\n",
              "            color:  #000000;\n",
              "        }#T_9d7a1_row8_col4{\n",
              "            background-color:  #f7b99e;\n",
              "            color:  #000000;\n",
              "        }#T_9d7a1_row8_col6{\n",
              "            background-color:  #f39475;\n",
              "            color:  #000000;\n",
              "        }#T_9d7a1_row8_col7{\n",
              "            background-color:  #c3d5f4;\n",
              "            color:  #000000;\n",
              "        }#T_9d7a1_row8_col10{\n",
              "            background-color:  #5977e3;\n",
              "            color:  #000000;\n",
              "        }#T_9d7a1_row9_col0{\n",
              "            background-color:  #8fb1fe;\n",
              "            color:  #000000;\n",
              "        }#T_9d7a1_row9_col3{\n",
              "            background-color:  #f7af91;\n",
              "            color:  #000000;\n",
              "        }#T_9d7a1_row9_col5{\n",
              "            background-color:  #e8765c;\n",
              "            color:  #000000;\n",
              "        }#T_9d7a1_row9_col7{\n",
              "            background-color:  #e0dbd8;\n",
              "            color:  #000000;\n",
              "        }#T_9d7a1_row9_col8,#T_9d7a1_row11_col6{\n",
              "            background-color:  #ec8165;\n",
              "            color:  #000000;\n",
              "        }#T_9d7a1_row10_col0{\n",
              "            background-color:  #afcafc;\n",
              "            color:  #000000;\n",
              "        }#T_9d7a1_row10_col1,#T_9d7a1_row11_col3{\n",
              "            background-color:  #f7aa8c;\n",
              "            color:  #000000;\n",
              "        }#T_9d7a1_row10_col3{\n",
              "            background-color:  #efcfbf;\n",
              "            color:  #000000;\n",
              "        }#T_9d7a1_row10_col5{\n",
              "            background-color:  #dedcdb;\n",
              "            color:  #000000;\n",
              "        }#T_9d7a1_row10_col6{\n",
              "            background-color:  #d6dce4;\n",
              "            color:  #000000;\n",
              "        }#T_9d7a1_row10_col7{\n",
              "            background-color:  #f08b6e;\n",
              "            color:  #000000;\n",
              "        }#T_9d7a1_row10_col9{\n",
              "            background-color:  #b6cefa;\n",
              "            color:  #000000;\n",
              "        }#T_9d7a1_row11_col1{\n",
              "            background-color:  #a1c0ff;\n",
              "            color:  #000000;\n",
              "        }#T_9d7a1_row11_col4{\n",
              "            background-color:  #f6a385;\n",
              "            color:  #000000;\n",
              "        }#T_9d7a1_row11_col5{\n",
              "            background-color:  #f49a7b;\n",
              "            color:  #000000;\n",
              "        }#T_9d7a1_row11_col7{\n",
              "            background-color:  #eed0c0;\n",
              "            color:  #000000;\n",
              "        }#T_9d7a1_row11_col9{\n",
              "            background-color:  #f7ba9f;\n",
              "            color:  #000000;\n",
              "        }</style><table id=\"T_9d7a1_\" ><thead>    <tr>        <th class=\"blank level0\" ></th>        <th class=\"col_heading level0 col0\" >PERSON_ID</th>        <th class=\"col_heading level0 col1\" >HEIGHT</th>        <th class=\"col_heading level0 col2\" >WEIGHT</th>        <th class=\"col_heading level0 col3\" >SEASON_EXP</th>        <th class=\"col_heading level0 col4\" >GP</th>        <th class=\"col_heading level0 col5\" >MIN</th>        <th class=\"col_heading level0 col6\" >PTS</th>        <th class=\"col_heading level0 col7\" >REB</th>        <th class=\"col_heading level0 col8\" >AST</th>        <th class=\"col_heading level0 col9\" >STL</th>        <th class=\"col_heading level0 col10\" >BLK</th>        <th class=\"col_heading level0 col11\" >Salary</th>    </tr></thead><tbody>\n",
              "                <tr>\n",
              "                        <th id=\"T_9d7a1_level0_row0\" class=\"row_heading level0 row0\" >PERSON_ID</th>\n",
              "                        <td id=\"T_9d7a1_row0_col0\" class=\"data row0 col0\" >1.000000</td>\n",
              "                        <td id=\"T_9d7a1_row0_col1\" class=\"data row0 col1\" >-0.017570</td>\n",
              "                        <td id=\"T_9d7a1_row0_col2\" class=\"data row0 col2\" >-0.145253</td>\n",
              "                        <td id=\"T_9d7a1_row0_col3\" class=\"data row0 col3\" >-0.832962</td>\n",
              "                        <td id=\"T_9d7a1_row0_col4\" class=\"data row0 col4\" >-0.828859</td>\n",
              "                        <td id=\"T_9d7a1_row0_col5\" class=\"data row0 col5\" >-0.435296</td>\n",
              "                        <td id=\"T_9d7a1_row0_col6\" class=\"data row0 col6\" >-0.378228</td>\n",
              "                        <td id=\"T_9d7a1_row0_col7\" class=\"data row0 col7\" >-0.327192</td>\n",
              "                        <td id=\"T_9d7a1_row0_col8\" class=\"data row0 col8\" >-0.280584</td>\n",
              "                        <td id=\"T_9d7a1_row0_col9\" class=\"data row0 col9\" >-0.360630</td>\n",
              "                        <td id=\"T_9d7a1_row0_col10\" class=\"data row0 col10\" >-0.191265</td>\n",
              "                        <td id=\"T_9d7a1_row0_col11\" class=\"data row0 col11\" >-0.410941</td>\n",
              "            </tr>\n",
              "            <tr>\n",
              "                        <th id=\"T_9d7a1_level0_row1\" class=\"row_heading level0 row1\" >HEIGHT</th>\n",
              "                        <td id=\"T_9d7a1_row1_col0\" class=\"data row1 col0\" >-0.017570</td>\n",
              "                        <td id=\"T_9d7a1_row1_col1\" class=\"data row1 col1\" >1.000000</td>\n",
              "                        <td id=\"T_9d7a1_row1_col2\" class=\"data row1 col2\" >0.742002</td>\n",
              "                        <td id=\"T_9d7a1_row1_col3\" class=\"data row1 col3\" >0.013805</td>\n",
              "                        <td id=\"T_9d7a1_row1_col4\" class=\"data row1 col4\" >0.004698</td>\n",
              "                        <td id=\"T_9d7a1_row1_col5\" class=\"data row1 col5\" >-0.089180</td>\n",
              "                        <td id=\"T_9d7a1_row1_col6\" class=\"data row1 col6\" >-0.045152</td>\n",
              "                        <td id=\"T_9d7a1_row1_col7\" class=\"data row1 col7\" >0.512521</td>\n",
              "                        <td id=\"T_9d7a1_row1_col8\" class=\"data row1 col8\" >-0.414416</td>\n",
              "                        <td id=\"T_9d7a1_row1_col9\" class=\"data row1 col9\" >-0.257846</td>\n",
              "                        <td id=\"T_9d7a1_row1_col10\" class=\"data row1 col10\" >0.582225</td>\n",
              "                        <td id=\"T_9d7a1_row1_col11\" class=\"data row1 col11\" >0.017026</td>\n",
              "            </tr>\n",
              "            <tr>\n",
              "                        <th id=\"T_9d7a1_level0_row2\" class=\"row_heading level0 row2\" >WEIGHT</th>\n",
              "                        <td id=\"T_9d7a1_row2_col0\" class=\"data row2 col0\" >-0.145253</td>\n",
              "                        <td id=\"T_9d7a1_row2_col1\" class=\"data row2 col1\" >0.742002</td>\n",
              "                        <td id=\"T_9d7a1_row2_col2\" class=\"data row2 col2\" >1.000000</td>\n",
              "                        <td id=\"T_9d7a1_row2_col3\" class=\"data row2 col3\" >0.175218</td>\n",
              "                        <td id=\"T_9d7a1_row2_col4\" class=\"data row2 col4\" >0.170504</td>\n",
              "                        <td id=\"T_9d7a1_row2_col5\" class=\"data row2 col5\" >0.022660</td>\n",
              "                        <td id=\"T_9d7a1_row2_col6\" class=\"data row2 col6\" >0.076494</td>\n",
              "                        <td id=\"T_9d7a1_row2_col7\" class=\"data row2 col7\" >0.580162</td>\n",
              "                        <td id=\"T_9d7a1_row2_col8\" class=\"data row2 col8\" >-0.290901</td>\n",
              "                        <td id=\"T_9d7a1_row2_col9\" class=\"data row2 col9\" >-0.146846</td>\n",
              "                        <td id=\"T_9d7a1_row2_col10\" class=\"data row2 col10\" >0.542029</td>\n",
              "                        <td id=\"T_9d7a1_row2_col11\" class=\"data row2 col11\" >0.091361</td>\n",
              "            </tr>\n",
              "            <tr>\n",
              "                        <th id=\"T_9d7a1_level0_row3\" class=\"row_heading level0 row3\" >SEASON_EXP</th>\n",
              "                        <td id=\"T_9d7a1_row3_col0\" class=\"data row3 col0\" >-0.832962</td>\n",
              "                        <td id=\"T_9d7a1_row3_col1\" class=\"data row3 col1\" >0.013805</td>\n",
              "                        <td id=\"T_9d7a1_row3_col2\" class=\"data row3 col2\" >0.175218</td>\n",
              "                        <td id=\"T_9d7a1_row3_col3\" class=\"data row3 col3\" >1.000000</td>\n",
              "                        <td id=\"T_9d7a1_row3_col4\" class=\"data row3 col4\" >0.977818</td>\n",
              "                        <td id=\"T_9d7a1_row3_col5\" class=\"data row3 col5\" >0.525627</td>\n",
              "                        <td id=\"T_9d7a1_row3_col6\" class=\"data row3 col6\" >0.463190</td>\n",
              "                        <td id=\"T_9d7a1_row3_col7\" class=\"data row3 col7\" >0.396618</td>\n",
              "                        <td id=\"T_9d7a1_row3_col8\" class=\"data row3 col8\" >0.344374</td>\n",
              "                        <td id=\"T_9d7a1_row3_col9\" class=\"data row3 col9\" >0.440100</td>\n",
              "                        <td id=\"T_9d7a1_row3_col10\" class=\"data row3 col10\" >0.230110</td>\n",
              "                        <td id=\"T_9d7a1_row3_col11\" class=\"data row3 col11\" >0.455904</td>\n",
              "            </tr>\n",
              "            <tr>\n",
              "                        <th id=\"T_9d7a1_level0_row4\" class=\"row_heading level0 row4\" >GP</th>\n",
              "                        <td id=\"T_9d7a1_row4_col0\" class=\"data row4 col0\" >-0.828859</td>\n",
              "                        <td id=\"T_9d7a1_row4_col1\" class=\"data row4 col1\" >0.004698</td>\n",
              "                        <td id=\"T_9d7a1_row4_col2\" class=\"data row4 col2\" >0.170504</td>\n",
              "                        <td id=\"T_9d7a1_row4_col3\" class=\"data row4 col3\" >0.977818</td>\n",
              "                        <td id=\"T_9d7a1_row4_col4\" class=\"data row4 col4\" >1.000000</td>\n",
              "                        <td id=\"T_9d7a1_row4_col5\" class=\"data row4 col5\" >0.579935</td>\n",
              "                        <td id=\"T_9d7a1_row4_col6\" class=\"data row4 col6\" >0.512884</td>\n",
              "                        <td id=\"T_9d7a1_row4_col7\" class=\"data row4 col7\" >0.427197</td>\n",
              "                        <td id=\"T_9d7a1_row4_col8\" class=\"data row4 col8\" >0.382122</td>\n",
              "                        <td id=\"T_9d7a1_row4_col9\" class=\"data row4 col9\" >0.472999</td>\n",
              "                        <td id=\"T_9d7a1_row4_col10\" class=\"data row4 col10\" >0.245824</td>\n",
              "                        <td id=\"T_9d7a1_row4_col11\" class=\"data row4 col11\" >0.494023</td>\n",
              "            </tr>\n",
              "            <tr>\n",
              "                        <th id=\"T_9d7a1_level0_row5\" class=\"row_heading level0 row5\" >MIN</th>\n",
              "                        <td id=\"T_9d7a1_row5_col0\" class=\"data row5 col0\" >-0.435296</td>\n",
              "                        <td id=\"T_9d7a1_row5_col1\" class=\"data row5 col1\" >-0.089180</td>\n",
              "                        <td id=\"T_9d7a1_row5_col2\" class=\"data row5 col2\" >0.022660</td>\n",
              "                        <td id=\"T_9d7a1_row5_col3\" class=\"data row5 col3\" >0.525627</td>\n",
              "                        <td id=\"T_9d7a1_row5_col4\" class=\"data row5 col4\" >0.579935</td>\n",
              "                        <td id=\"T_9d7a1_row5_col5\" class=\"data row5 col5\" >1.000000</td>\n",
              "                        <td id=\"T_9d7a1_row5_col6\" class=\"data row5 col6\" >0.889919</td>\n",
              "                        <td id=\"T_9d7a1_row5_col7\" class=\"data row5 col7\" >0.586104</td>\n",
              "                        <td id=\"T_9d7a1_row5_col8\" class=\"data row5 col8\" >0.674615</td>\n",
              "                        <td id=\"T_9d7a1_row5_col9\" class=\"data row5 col9\" >0.753779</td>\n",
              "                        <td id=\"T_9d7a1_row5_col10\" class=\"data row5 col10\" >0.292521</td>\n",
              "                        <td id=\"T_9d7a1_row5_col11\" class=\"data row5 col11\" >0.639290</td>\n",
              "            </tr>\n",
              "            <tr>\n",
              "                        <th id=\"T_9d7a1_level0_row6\" class=\"row_heading level0 row6\" >PTS</th>\n",
              "                        <td id=\"T_9d7a1_row6_col0\" class=\"data row6 col0\" >-0.378228</td>\n",
              "                        <td id=\"T_9d7a1_row6_col1\" class=\"data row6 col1\" >-0.045152</td>\n",
              "                        <td id=\"T_9d7a1_row6_col2\" class=\"data row6 col2\" >0.076494</td>\n",
              "                        <td id=\"T_9d7a1_row6_col3\" class=\"data row6 col3\" >0.463190</td>\n",
              "                        <td id=\"T_9d7a1_row6_col4\" class=\"data row6 col4\" >0.512884</td>\n",
              "                        <td id=\"T_9d7a1_row6_col5\" class=\"data row6 col5\" >0.889919</td>\n",
              "                        <td id=\"T_9d7a1_row6_col6\" class=\"data row6 col6\" >1.000000</td>\n",
              "                        <td id=\"T_9d7a1_row6_col7\" class=\"data row6 col7\" >0.566228</td>\n",
              "                        <td id=\"T_9d7a1_row6_col8\" class=\"data row6 col8\" >0.675474</td>\n",
              "                        <td id=\"T_9d7a1_row6_col9\" class=\"data row6 col9\" >0.629975</td>\n",
              "                        <td id=\"T_9d7a1_row6_col10\" class=\"data row6 col10\" >0.273726</td>\n",
              "                        <td id=\"T_9d7a1_row6_col11\" class=\"data row6 col11\" >0.732907</td>\n",
              "            </tr>\n",
              "            <tr>\n",
              "                        <th id=\"T_9d7a1_level0_row7\" class=\"row_heading level0 row7\" >REB</th>\n",
              "                        <td id=\"T_9d7a1_row7_col0\" class=\"data row7 col0\" >-0.327192</td>\n",
              "                        <td id=\"T_9d7a1_row7_col1\" class=\"data row7 col1\" >0.512521</td>\n",
              "                        <td id=\"T_9d7a1_row7_col2\" class=\"data row7 col2\" >0.580162</td>\n",
              "                        <td id=\"T_9d7a1_row7_col3\" class=\"data row7 col3\" >0.396618</td>\n",
              "                        <td id=\"T_9d7a1_row7_col4\" class=\"data row7 col4\" >0.427197</td>\n",
              "                        <td id=\"T_9d7a1_row7_col5\" class=\"data row7 col5\" >0.586104</td>\n",
              "                        <td id=\"T_9d7a1_row7_col6\" class=\"data row7 col6\" >0.566228</td>\n",
              "                        <td id=\"T_9d7a1_row7_col7\" class=\"data row7 col7\" >1.000000</td>\n",
              "                        <td id=\"T_9d7a1_row7_col8\" class=\"data row7 col8\" >0.214233</td>\n",
              "                        <td id=\"T_9d7a1_row7_col9\" class=\"data row7 col9\" >0.356387</td>\n",
              "                        <td id=\"T_9d7a1_row7_col10\" class=\"data row7 col10\" >0.714334</td>\n",
              "                        <td id=\"T_9d7a1_row7_col11\" class=\"data row7 col11\" >0.435228</td>\n",
              "            </tr>\n",
              "            <tr>\n",
              "                        <th id=\"T_9d7a1_level0_row8\" class=\"row_heading level0 row8\" >AST</th>\n",
              "                        <td id=\"T_9d7a1_row8_col0\" class=\"data row8 col0\" >-0.280584</td>\n",
              "                        <td id=\"T_9d7a1_row8_col1\" class=\"data row8 col1\" >-0.414416</td>\n",
              "                        <td id=\"T_9d7a1_row8_col2\" class=\"data row8 col2\" >-0.290901</td>\n",
              "                        <td id=\"T_9d7a1_row8_col3\" class=\"data row8 col3\" >0.344374</td>\n",
              "                        <td id=\"T_9d7a1_row8_col4\" class=\"data row8 col4\" >0.382122</td>\n",
              "                        <td id=\"T_9d7a1_row8_col5\" class=\"data row8 col5\" >0.674615</td>\n",
              "                        <td id=\"T_9d7a1_row8_col6\" class=\"data row8 col6\" >0.675474</td>\n",
              "                        <td id=\"T_9d7a1_row8_col7\" class=\"data row8 col7\" >0.214233</td>\n",
              "                        <td id=\"T_9d7a1_row8_col8\" class=\"data row8 col8\" >1.000000</td>\n",
              "                        <td id=\"T_9d7a1_row8_col9\" class=\"data row8 col9\" >0.727288</td>\n",
              "                        <td id=\"T_9d7a1_row8_col10\" class=\"data row8 col10\" >-0.074422</td>\n",
              "                        <td id=\"T_9d7a1_row8_col11\" class=\"data row8 col11\" >0.560400</td>\n",
              "            </tr>\n",
              "            <tr>\n",
              "                        <th id=\"T_9d7a1_level0_row9\" class=\"row_heading level0 row9\" >STL</th>\n",
              "                        <td id=\"T_9d7a1_row9_col0\" class=\"data row9 col0\" >-0.360630</td>\n",
              "                        <td id=\"T_9d7a1_row9_col1\" class=\"data row9 col1\" >-0.257846</td>\n",
              "                        <td id=\"T_9d7a1_row9_col2\" class=\"data row9 col2\" >-0.146846</td>\n",
              "                        <td id=\"T_9d7a1_row9_col3\" class=\"data row9 col3\" >0.440100</td>\n",
              "                        <td id=\"T_9d7a1_row9_col4\" class=\"data row9 col4\" >0.472999</td>\n",
              "                        <td id=\"T_9d7a1_row9_col5\" class=\"data row9 col5\" >0.753779</td>\n",
              "                        <td id=\"T_9d7a1_row9_col6\" class=\"data row9 col6\" >0.629975</td>\n",
              "                        <td id=\"T_9d7a1_row9_col7\" class=\"data row9 col7\" >0.356387</td>\n",
              "                        <td id=\"T_9d7a1_row9_col8\" class=\"data row9 col8\" >0.727288</td>\n",
              "                        <td id=\"T_9d7a1_row9_col9\" class=\"data row9 col9\" >1.000000</td>\n",
              "                        <td id=\"T_9d7a1_row9_col10\" class=\"data row9 col10\" >0.141599</td>\n",
              "                        <td id=\"T_9d7a1_row9_col11\" class=\"data row9 col11\" >0.532968</td>\n",
              "            </tr>\n",
              "            <tr>\n",
              "                        <th id=\"T_9d7a1_level0_row10\" class=\"row_heading level0 row10\" >BLK</th>\n",
              "                        <td id=\"T_9d7a1_row10_col0\" class=\"data row10 col0\" >-0.191265</td>\n",
              "                        <td id=\"T_9d7a1_row10_col1\" class=\"data row10 col1\" >0.582225</td>\n",
              "                        <td id=\"T_9d7a1_row10_col2\" class=\"data row10 col2\" >0.542029</td>\n",
              "                        <td id=\"T_9d7a1_row10_col3\" class=\"data row10 col3\" >0.230110</td>\n",
              "                        <td id=\"T_9d7a1_row10_col4\" class=\"data row10 col4\" >0.245824</td>\n",
              "                        <td id=\"T_9d7a1_row10_col5\" class=\"data row10 col5\" >0.292521</td>\n",
              "                        <td id=\"T_9d7a1_row10_col6\" class=\"data row10 col6\" >0.273726</td>\n",
              "                        <td id=\"T_9d7a1_row10_col7\" class=\"data row10 col7\" >0.714334</td>\n",
              "                        <td id=\"T_9d7a1_row10_col8\" class=\"data row10 col8\" >-0.074422</td>\n",
              "                        <td id=\"T_9d7a1_row10_col9\" class=\"data row10 col9\" >0.141599</td>\n",
              "                        <td id=\"T_9d7a1_row10_col10\" class=\"data row10 col10\" >1.000000</td>\n",
              "                        <td id=\"T_9d7a1_row10_col11\" class=\"data row10 col11\" >0.241079</td>\n",
              "            </tr>\n",
              "            <tr>\n",
              "                        <th id=\"T_9d7a1_level0_row11\" class=\"row_heading level0 row11\" >Salary</th>\n",
              "                        <td id=\"T_9d7a1_row11_col0\" class=\"data row11 col0\" >-0.410941</td>\n",
              "                        <td id=\"T_9d7a1_row11_col1\" class=\"data row11 col1\" >0.017026</td>\n",
              "                        <td id=\"T_9d7a1_row11_col2\" class=\"data row11 col2\" >0.091361</td>\n",
              "                        <td id=\"T_9d7a1_row11_col3\" class=\"data row11 col3\" >0.455904</td>\n",
              "                        <td id=\"T_9d7a1_row11_col4\" class=\"data row11 col4\" >0.494023</td>\n",
              "                        <td id=\"T_9d7a1_row11_col5\" class=\"data row11 col5\" >0.639290</td>\n",
              "                        <td id=\"T_9d7a1_row11_col6\" class=\"data row11 col6\" >0.732907</td>\n",
              "                        <td id=\"T_9d7a1_row11_col7\" class=\"data row11 col7\" >0.435228</td>\n",
              "                        <td id=\"T_9d7a1_row11_col8\" class=\"data row11 col8\" >0.560400</td>\n",
              "                        <td id=\"T_9d7a1_row11_col9\" class=\"data row11 col9\" >0.532968</td>\n",
              "                        <td id=\"T_9d7a1_row11_col10\" class=\"data row11 col10\" >0.241079</td>\n",
              "                        <td id=\"T_9d7a1_row11_col11\" class=\"data row11 col11\" >1.000000</td>\n",
              "            </tr>\n",
              "    </tbody></table>"
            ],
            "text/plain": [
              "<pandas.io.formats.style.Styler at 0x7f09641fafa0>"
            ]
          },
          "execution_count": 502,
          "metadata": {},
          "output_type": "execute_result"
        }
      ],
      "source": [
        "corr_data = data.corr(method='pearson')\n",
        "corr_data.style.background_gradient(cmap='coolwarm')\n"
      ]
    },
    {
      "cell_type": "code",
      "execution_count": null,
      "id": "ebf4cf29",
      "metadata": {
        "id": "ebf4cf29",
        "outputId": "415e2b1b-ada7-4a95-99ca-caa98391287a"
      },
      "outputs": [
        {
          "data": {
            "image/png": "[encoded data removed]",
            "text/plain": [
              "<Figure size 432x288 with 1 Axes>"
            ]
          },
          "metadata": {
            "needs_background": "light"
          },
          "output_type": "display_data"
        }
      ],
      "source": [
        "sns.boxplot(data=data, x='PTS').set_title('Distribution of PTS')\n",
        "plt.show()\n",
        "\n"
      ]
    },
    {
      "cell_type": "code",
      "execution_count": null,
      "id": "c7fdc68b",
      "metadata": {
        "id": "c7fdc68b"
      },
      "outputs": [],
      "source": [
        "colum_name = [\"PTS\"]\n",
        "\n",
        "features = data[colum_name]\n",
        "\n",
        "scaler = StandardScaler()\n",
        "\n",
        "\n",
        "data[colum_name] = scaler.fit_transform(features.values).reshape(-1,1)\n",
        "\n",
        "\n"
      ]
    },
    {
      "cell_type": "code",
      "execution_count": null,
      "id": "ea8142ad",
      "metadata": {
        "id": "ea8142ad"
      },
      "outputs": [],
      "source": [
        "y = data.Salary\n",
        "\n",
        "features = [\"PTS\"] \n",
        "X = data[features]\n",
        "\n",
        "\n",
        "X_train, X_test, y_train, y_test = train_test_split(X, y, test_size = 0.3, random_state=8)\n"
      ]
    },
    {
      "cell_type": "markdown",
      "id": "1c490e55-2bff-4a06-a01e-c6859d7edb52",
      "metadata": {
        "id": "1c490e55-2bff-4a06-a01e-c6859d7edb52"
      },
      "source": [
        "1.7. Train a model with [SGDRegressor](https://scikit-learn.org/stable/modules/generated/sklearn.linear_model.SGDRegressor.html) from Sklearn using the default parameters. Evaluate the model's performance on the test set using the selected metric."
      ]
    },
    {
      "cell_type": "code",
      "execution_count": null,
      "id": "15d198ad-a601-4722-937b-3be52090c8d1",
      "metadata": {
        "id": "15d198ad-a601-4722-937b-3be52090c8d1"
      },
      "outputs": [],
      "source": [
        "\n",
        "sgd_reg = SGDRegressor(loss='squared_error', penalty='l2', alpha=0.0001, l1_ratio=0.15, fit_intercept=True, max_iter=1000, tol=0.001, shuffle=True, verbose=0, epsilon=0.1, random_state=None, learning_rate='invscaling', eta0=0.01, power_t=0.25, early_stopping=False, validation_fraction=0.1, n_iter_no_change=5, warm_start=False, average=False)\n",
        "\n",
        "sgd_reg.fit(X_train, y_train)\n",
        "\n",
        "test_pred = sgd_reg.predict(X_test)\n",
        "\n",
        "\n",
        "default_mae = mean_absolute_error(y_test, test_pred)\n",
        "\n",
        "\n",
        "default_mae = round(default_mae, 2)"
      ]
    },
    {
      "cell_type": "markdown",
      "id": "e87147d9-5b57-4984-9f0d-e595cd6d15d3",
      "metadata": {
        "id": "e87147d9-5b57-4984-9f0d-e595cd6d15d3"
      },
      "source": [
        "1.8. Read the Sklearn documentation, and write a function that tries different configurations for the hyperparameters for training: epochs, learning rate and alpha. For each combination of parameters, evaluate the trained algorithm on the test set, then save the results of each hyperparameter combination, finally select the one that has the best MAE (meaning the lowest number) and print the combination and the MAE."
      ]
    },
    {
      "cell_type": "code",
      "execution_count": null,
      "id": "9e1f26f4-1eb4-4ecc-bfc2-9d8583f00d0d",
      "metadata": {
        "id": "9e1f26f4-1eb4-4ecc-bfc2-9d8583f00d0d"
      },
      "outputs": [],
      "source": [
        "def search_best_hyperparameters(max_iter, eta0):\n",
        "    result = {\n",
        "        \"hyperparameters\": {\"max_iter\": None, \"eta0\": None}, \n",
        "        \"mae\": None\n",
        "    }\n",
        "    eta0 = [0.0001, 0.001, 0.01, 0.1]\n",
        "    max_iter = [1000, 1000000]\n",
        "\n",
        "    mae_list =  []\n",
        "    parameters = []\n",
        "    for i in max_iter:\n",
        "        for j in eta0:\n",
        "                parameters.append( ( i, j ) )\n",
        "                sgd_reg = SGDRegressor(max_iter = i, eta0= j)\n",
        "\n",
        "                sgd_reg.fit(X_train, y_train)\n",
        "\n",
        "                test_pred = sgd_reg.predict(X_test)\n",
        "\n",
        "                mae = mean_absolute_error(y_test, test_pred)\n",
        "                    \n",
        "                mae_list.append(mae)\n",
        "                    \n",
        "                    \n",
        "                    \n",
        "                mae_array = np.array(mae_list)\n",
        "    result = {\n",
        "    \"hyperparameters\": {\"max_iter\": parameters[np.argmin(mae_array)][0], \"eta0\": parameters[np.argmin(mae_array)][1]}, \n",
        "    \"mae\": np.min(mae_array)\n",
        "    }\n",
        " \n",
        " \n",
        "    \n",
        "    return result"
      ]
    },
    {
      "cell_type": "code",
      "execution_count": null,
      "id": "59912458",
      "metadata": {
        "id": "59912458"
      },
      "outputs": [],
      "source": [
        "    eta0 = [0.0001, 0.001, 0.01, 0.1]\n",
        "    max_iter = [1000, 1000000]\n",
        "\n",
        "    mae_list =  []\n",
        "    parameters = []\n",
        "    for i in max_iter:\n",
        "        for j in eta0:\n",
        "                parameters.append( ( i, j ) )\n",
        "                sgd_reg = SGDRegressor(max_iter = i, eta0= j)\n",
        "\n",
        "                sgd_reg.fit(X_train, y_train)\n",
        "\n",
        "                test_pred = sgd_reg.predict(X_test)\n",
        "\n",
        "                mae = mean_absolute_error(y_test, test_pred)\n",
        "                    \n",
        "                mae_list.append(mae)\n",
        "                    \n",
        "                    \n",
        "                    \n",
        "                mae_array = np.array(mae_list)\n",
        "                warnings.filterwarnings('ignore')   "
      ]
    },
    {
      "cell_type": "code",
      "execution_count": null,
      "id": "16539e66",
      "metadata": {
        "id": "16539e66"
      },
      "outputs": [],
      "source": [
        "best_mae = np.min(mae_array)\n",
        "best_mae = round(best_mae, 2)"
      ]
    },
    {
      "cell_type": "code",
      "execution_count": null,
      "id": "95ffbb3b-d161-4a29-9c48-eaff18b82412",
      "metadata": {
        "id": "95ffbb3b-d161-4a29-9c48-eaff18b82412",
        "outputId": "cd9c7180-e033-40a1-e68a-e9b047261307"
      },
      "outputs": [
        {
          "name": "stdout",
          "output_type": "stream",
          "text": [
            "{'hyperparameters': {'max_iter': 1000, 'eta0': 0.0001}, 'mae': 4883637.814317507}\n"
          ]
        }
      ],
      "source": [
        "# Example list of hyperparameters values\n",
        "max_iter = [1000, 1000000]\n",
        "eta0 = [0.0001, 0.001, 0.01, 0.1]\n",
        "\n",
        "result = search_best_hyperparameters(max_iter, eta0)\n",
        "print(result)"
      ]
    },
    {
      "cell_type": "markdown",
      "id": "776e0c7a-d592-4479-aec6-870edff61def",
      "metadata": {
        "id": "776e0c7a-d592-4479-aec6-870edff61def"
      },
      "source": [
        "1.9. Compare the results of the baseline, the SGDRegressor with default parameters and the one with the best combination of hyperparameters you could find. (replace variables with the ones you used)"
      ]
    },
    {
      "cell_type": "code",
      "execution_count": null,
      "id": "2e520ef6-52ed-48dc-8450-03031f3a03a6",
      "metadata": {
        "id": "2e520ef6-52ed-48dc-8450-03031f3a03a6",
        "outputId": "261a05b6-79bd-4b9c-d5bf-268e2c5dfff4"
      },
      "outputs": [
        {
          "name": "stdout",
          "output_type": "stream",
          "text": [
            "Mean Absolute Error for each model:\n",
            "Baseline: 7640684.55\n",
            "Default SGDRegressor: 5010806.67\n",
            "Best SGDRegressor: 4883892.44\n"
          ]
        }
      ],
      "source": [
        "print(\"Mean Absolute Error for each model:\")\n",
        "print(f\"Baseline: {baseline_mae}\")\n",
        "print(f\"Default SGDRegressor: {default_mae}\")\n",
        "print(f\"Best SGDRegressor: {best_mae}\")"
      ]
    },
    {
      "cell_type": "markdown",
      "id": "19e281ec-d578-496d-9f5d-897a2e1986a2",
      "metadata": {
        "id": "19e281ec-d578-496d-9f5d-897a2e1986a2"
      },
      "source": [
        "### Multivariate Linear Regression"
      ]
    },
    {
      "cell_type": "markdown",
      "id": "4ff24d36-439a-478f-b0de-0021223f6e99",
      "metadata": {
        "id": "4ff24d36-439a-478f-b0de-0021223f6e99"
      },
      "source": [
        "To improve our model, we will add more features to it. We will have to do some processing to our dataset to be able to use the data.\n",
        "We'll start with the following variables:"
      ]
    },
    {
      "cell_type": "markdown",
      "id": "247f4716-496a-4040-9519-77f7a6839691",
      "metadata": {
        "id": "247f4716-496a-4040-9519-77f7a6839691"
      },
      "source": [
        "- Points\n",
        "- Rebounds\n",
        "- Assists\n",
        "- Blocks\n",
        "- Experience\n",
        "- Position\n",
        "- Draft Number\n"
      ]
    },
    {
      "cell_type": "markdown",
      "id": "7958f7ec-45a0-4deb-bb79-3daa756dbcca",
      "metadata": {
        "id": "7958f7ec-45a0-4deb-bb79-3daa756dbcca"
      },
      "source": [
        "1.10. Create a copy of the dataset generated in the first project that only has the following columns (and player id as an index):\n",
        "\n",
        "[\"PTS\", \"REB\", \"AST\", \"BLK\", \"SEASON_EXP\", \"POSITION\", \"DRAFT_NUMBER\", \"SALARY\", \"TEAM_NAME\"]"
      ]
    },
    {
      "cell_type": "code",
      "execution_count": null,
      "id": "64b265b4-d4e5-40a6-a9c3-cce920ecaa1b",
      "metadata": {
        "id": "64b265b4-d4e5-40a6-a9c3-cce920ecaa1b"
      },
      "outputs": [],
      "source": [
        "data1 = data.copy()\n",
        "\n",
        "data1 = data1.loc[:, [\"PERSON_ID\",\"PTS\", \"REB\", \"AST\", \"BLK\", \"SEASON_EXP\", \"POSITION\", \"DRAFT_NUMBER\", \"Salary\", \"TEAM_NAME\"]]\n",
        "\n",
        "data1 = data1.rename(columns={\"PERSON_ID\": \"PLAYER_ID\"})\n",
        "\n",
        "data1.set_index(\"PLAYER_ID\", inplace = True)\n",
        "\n",
        "\n",
        "\n"
      ]
    },
    {
      "cell_type": "markdown",
      "id": "4865eb6e-d85d-4283-a67c-93df46a5b72e",
      "metadata": {
        "id": "4865eb6e-d85d-4283-a67c-93df46a5b72e"
      },
      "source": [
        "#### Feature Engineering"
      ]
    },
    {
      "cell_type": "markdown",
      "id": "b2540df8-ac16-4ad1-b8cf-028f566faa06",
      "metadata": {
        "id": "b2540df8-ac16-4ad1-b8cf-028f566faa06"
      },
      "source": [
        "1.11. Perform feature scaling in all the numerical features (\"PTS\", \"REB\", \"AST\", \"BLK\", \"SEASON_EXP\") except for draft number (which we will tackle next)"
      ]
    },
    {
      "cell_type": "code",
      "execution_count": null,
      "id": "56348d58-2d6a-49b9-919f-383329a432e5",
      "metadata": {
        "id": "56348d58-2d6a-49b9-919f-383329a432e5"
      },
      "outputs": [],
      "source": [
        "data2 = data1.copy()\n",
        "\n",
        "columns_names = [\"PTS\", \"REB\", \"AST\", \"BLK\", \"SEASON_EXP\"]\n",
        "\n",
        "features = data2[columns_names]\n",
        "\n",
        "scaler = StandardScaler()\n",
        "\n",
        "\n",
        "data2[columns_names] = scaler.fit_transform(features.values)\n",
        "\n",
        "\n",
        "\n"
      ]
    },
    {
      "cell_type": "markdown",
      "id": "ec9b71e8-57aa-405a-8b3b-b0585a45d64d",
      "metadata": {
        "id": "ec9b71e8-57aa-405a-8b3b-b0585a45d64d"
      },
      "source": [
        "1.12. Binning the DRAFT_NUMBER feature. Draft position directly impacts salaries during the first few years, but second round players and undrafted players don't have guaranteed contracts. So we're gonna divide the bins like this: \n",
        "\n",
        "       - 1 to 15: firstround_lottery\n",
        "       - 15 to 30: firstround_non_lottery\n",
        "       - 30 to 60: second_round\n",
        "       - Undrafted: undrafted\n",
        "\n",
        "\n",
        "\n",
        "Create a new column named DRAFT using these 4 categories. Drop the draft number column."
      ]
    },
    {
      "cell_type": "code",
      "execution_count": null,
      "id": "f9a74ca4",
      "metadata": {
        "id": "f9a74ca4"
      },
      "outputs": [],
      "source": [
        "data2['DRAFT_NUMBER'] = data2['DRAFT_NUMBER'].str.extract('(\\d+)', expand=True).astype('float').astype('Int64')\n"
      ]
    },
    {
      "cell_type": "code",
      "execution_count": null,
      "id": "4f62a236",
      "metadata": {
        "id": "4f62a236"
      },
      "outputs": [],
      "source": [
        "data2['DRAFT_NUMBER'] = data2['DRAFT_NUMBER'].fillna(0)\n"
      ]
    },
    {
      "cell_type": "code",
      "execution_count": null,
      "id": "6e9d667f",
      "metadata": {
        "id": "6e9d667f"
      },
      "outputs": [],
      "source": [
        "data2[\"DRAFT\"] = pd.cut(data2[\"DRAFT_NUMBER\"], bins = [1,15,30,60], labels = [\"firstround_lottery\", \"firstround_non_lottery\",\"second_round\"])"
      ]
    },
    {
      "cell_type": "code",
      "execution_count": null,
      "id": "7dec04b9",
      "metadata": {
        "id": "7dec04b9"
      },
      "outputs": [],
      "source": [
        "data2['DRAFT'] = data2['DRAFT'].astype(str)\n",
        "\n",
        "data2['DRAFT'] = data2['DRAFT'].replace(np.nan, \"undrafted\")\n"
      ]
    },
    {
      "cell_type": "markdown",
      "id": "37a55237-cb04-4c38-bef3-8c363f9dbe5c",
      "metadata": {
        "id": "37a55237-cb04-4c38-bef3-8c363f9dbe5c"
      },
      "source": [
        "1.13. Encode the categorical features: DRAFT, POSITION and TEAM_NAME"
      ]
    },
    {
      "cell_type": "code",
      "execution_count": null,
      "id": "c565394e-5d44-4418-a33b-eaa801062dbc",
      "metadata": {
        "id": "c565394e-5d44-4418-a33b-eaa801062dbc"
      },
      "outputs": [],
      "source": [
        "x2 = data2[[\"DRAFT\",\"POSITION\", \"TEAM_NAME\"]]\n",
        "\n",
        "le = preprocessing.LabelEncoder()\n",
        "\n",
        "\n",
        "data2[[\"DRAFT\",\"POSITION\", \"TEAM_NAME\"]] = x2.apply(le.fit_transform)\n",
        "\n",
        "\n",
        "\n"
      ]
    },
    {
      "cell_type": "markdown",
      "id": "9816d9d4-b44d-4bb7-9cad-156daee9dc50",
      "metadata": {
        "id": "9816d9d4-b44d-4bb7-9cad-156daee9dc50"
      },
      "source": [
        "#### Modeling"
      ]
    },
    {
      "cell_type": "markdown",
      "id": "1eb528f1-852e-428e-b97c-40b412985f98",
      "metadata": {
        "id": "1eb528f1-852e-428e-b97c-40b412985f98"
      },
      "source": [
        "1.14. Split the dataset into train and test"
      ]
    },
    {
      "cell_type": "code",
      "execution_count": null,
      "id": "7696efd0-94f8-49ce-846f-4fd24a01b0fd",
      "metadata": {
        "id": "7696efd0-94f8-49ce-846f-4fd24a01b0fd"
      },
      "outputs": [],
      "source": [
        "y = data2[\"Salary\"]\n",
        "\n",
        "\n",
        "\n",
        "X = data2.drop([\"Salary\"], axis = 1)\n",
        "\n",
        "X_train, X_test, y_train, y_test = train_test_split(X, y, test_size = 0.3, random_state=12)\n",
        "\n"
      ]
    },
    {
      "cell_type": "markdown",
      "id": "7790c25a-b516-4e3f-b311-6e5b026bfb80",
      "metadata": {
        "id": "7790c25a-b516-4e3f-b311-6e5b026bfb80"
      },
      "source": [
        "1.15. Write a function to train a SGDRegressor model with the new dataset, trying different hyperparameters, and selecting the one that performs the best."
      ]
    },
    {
      "cell_type": "code",
      "execution_count": null,
      "id": "7debc1b9",
      "metadata": {
        "id": "7debc1b9"
      },
      "outputs": [],
      "source": [
        "def best_hyperparameters(max_iter, eta0):\n",
        "    result = {\n",
        "        \"hyperparameters\": {\"max_iter\": None, \"eta0\": None}, \n",
        "        \"mae\": None\n",
        "    }\n",
        "    max_iter = [1000, 1000000]\n",
        "    eta0 = [0.0001, 0.001, 0.01, 0.1]\n",
        "\n",
        "    mae_list =  []\n",
        "    parameters = []\n",
        "    for i in max_iter:\n",
        "        \n",
        "            for j in eta0:\n",
        "                    parameters.append( ( i, j ) )\n",
        "                    sgd_reg = SGDRegressor(max_iter = i, eta0= j)\n",
        "\n",
        "                    sgd_reg.fit(X_train, y_train)\n",
        "\n",
        "                    test_pred = sgd_reg.predict(X_test)\n",
        "\n",
        "                    mae = mean_absolute_error(y_test, test_pred)\n",
        "                    \n",
        "                    mae_list.append(mae)\n",
        "                    \n",
        "                    \n",
        "                    \n",
        "                    mae_array = np.array(mae_list)\n",
        "                                                       \n",
        "    result = {\n",
        "    \"hyperparameters\": {\"max_iter\": parameters[np.argmin(mae_array)][0], \"eta0\": parameters[np.argmin(mae_array)][1]}, \n",
        "    \"mae\": np.min(mae_array)\n",
        "    }\n",
        " \n",
        " \n",
        "    \n",
        "    return result"
      ]
    },
    {
      "cell_type": "code",
      "execution_count": null,
      "id": "3105fd29",
      "metadata": {
        "id": "3105fd29"
      },
      "outputs": [],
      "source": [
        "    max_iter = [1000, 1000000, 100000]\n",
        "    eta0 = [0.0001, 0.001, 0.01, 0.1]\n",
        "    \n",
        "\n",
        "    mae_list =  []\n",
        "    parameters = []\n",
        "    for i in max_iter:\n",
        "            for j in eta0:\n",
        "                    parameters.append( ( i, j ) )\n",
        "                    sgd_reg = SGDRegressor(max_iter = i, eta0 = j)\n",
        "\n",
        "                    sgd_reg.fit(X_train, y_train)\n",
        "\n",
        "                    test_pred = sgd_reg.predict(X_test)\n",
        "\n",
        "                    mae = mean_absolute_error(y_test, test_pred)\n",
        "                    \n",
        "                    mae_list.append(mae)\n",
        "                    \n",
        "                    \n",
        "                    \n",
        "                    mae_array = np.array(mae_list)  \n",
        "    "
      ]
    },
    {
      "cell_type": "code",
      "execution_count": null,
      "id": "7d8642f3-895c-4d8d-85b7-80a087a0adef",
      "metadata": {
        "id": "7d8642f3-895c-4d8d-85b7-80a087a0adef",
        "outputId": "d10f4805-372b-43c2-d783-7415329e3070"
      },
      "outputs": [
        {
          "name": "stdout",
          "output_type": "stream",
          "text": [
            "4765899.66\n"
          ]
        }
      ],
      "source": [
        "best_mae = np.min(mae_array)\n",
        "best_mae = round(best_mae, 2)\n",
        "print(best_mae)"
      ]
    },
    {
      "cell_type": "code",
      "execution_count": null,
      "id": "f7a61fb9",
      "metadata": {
        "id": "f7a61fb9"
      },
      "outputs": [],
      "source": [
        "result = search_best_hyperparameters(max_iter, eta0)"
      ]
    },
    {
      "cell_type": "markdown",
      "id": "33d63bc7-448d-40a6-a314-6602c75e2284",
      "metadata": {
        "id": "33d63bc7-448d-40a6-a314-6602c75e2284"
      },
      "source": [
        "1.16. How did the model performed compared to our univariate models? "
      ]
    },
    {
      "cell_type": "code",
      "execution_count": null,
      "id": "b8dc264b-1fde-4de3-9099-a526210075fa",
      "metadata": {
        "id": "b8dc264b-1fde-4de3-9099-a526210075fa"
      },
      "outputs": [],
      "source": [
        "#The model improved performance a little more compared to the univariate models i think it is because the categories most closely related to wages were chosen."
      ]
    },
    {
      "cell_type": "markdown",
      "id": "e9992197-563b-4a69-9cd7-97fcb9ee3677",
      "metadata": {
        "id": "e9992197-563b-4a69-9cd7-97fcb9ee3677",
        "tags": []
      },
      "source": [
        "### DecisionTreeRegressor\n",
        "\n",
        "It is possible that this problem might not be easily resolvable by a linear model, or that there could be better types of algorithms to tackle it. As an example, let's try with a very used algorithm, a Decision Tree.\n",
        "\n"
      ]
    },
    {
      "cell_type": "markdown",
      "id": "61930247-d4b0-4bdf-ad98-a421457e2c4a",
      "metadata": {
        "id": "61930247-d4b0-4bdf-ad98-a421457e2c4a"
      },
      "source": [
        "1.17. Create new model using [DecisionTreeRegressor](https://scikit-learn.org/stable/auto_examples/tree/plot_tree_regression.html) from scikit learn. We will use again all variables, and try different configuration for the following hyperparameters:\n",
        "\n",
        "- max_depth\n",
        "- min_samples_leaf\n",
        "- max_features\n",
        "\n",
        "These are all regularization hyperparameters for this algorithm. Read the documentation to get a better grasp of what each one does."
      ]
    },
    {
      "cell_type": "code",
      "execution_count": null,
      "id": "d393cdae-c2d7-40a0-a518-19f007edb242",
      "metadata": {
        "id": "d393cdae-c2d7-40a0-a518-19f007edb242"
      },
      "outputs": [],
      "source": [
        "# List of hyperparameter example values\n",
        "max_depth = [5, 10, 15, 20, 50]\n",
        "min_samples_leaf = [2, 10, 20, 50]\n",
        "max_features = [5, 10]"
      ]
    },
    {
      "cell_type": "code",
      "execution_count": null,
      "id": "1f8b30c6",
      "metadata": {
        "id": "1f8b30c6"
      },
      "outputs": [],
      "source": [
        "def best_hyperparameters(max_depth, min_samples_leaf, max_features):\n",
        "    result = {\n",
        "        \"hyperparameters\": {\"max_depth\": None, \"min_samples_leaf\": None, \"max_features\": None},\n",
        "        \"mae\": None\n",
        "    }\n",
        "    max_depth = [5, 10, 15, 20, 50]\n",
        "    min_samples_leaf = [2, 10, 20, 50]\n",
        "    max_features = [2, 3, 5, 7, 8, 9]\n",
        "\n",
        "\n",
        "    parameters = []\n",
        "    for i in max_depth:\n",
        "        for j in min_samples_leaf:\n",
        "            for k in max_features:\n",
        "                parameters.append( ( i, j, k ) )\n",
        "                model = DecisionTreeRegressor(max_depth = i, min_samples_leaf = j, max_features = k)\n",
        "                model.fit(X_train, y_train)\n",
        "                test_predict = model.predict(X_test)\n",
        "                mae = mean_absolute_error(y_test, test_pred)\n",
        "                \n",
        "\n",
        "                    \n",
        "                    \n",
        "    result = {\n",
        "    \"hyperparameters\": {\"max_depth\": parameters[np.argmin(mae_array)][0], \"min_samples_leaf\": parameters[np.argmin(mae_array)][1], \"max_features\": parameters[np.argmin(mae_array)][2]}\n",
        "\n",
        "    }\n",
        " \n",
        " \n",
        "    \n",
        "    return result"
      ]
    },
    {
      "cell_type": "code",
      "execution_count": null,
      "id": "946f3711",
      "metadata": {
        "id": "946f3711"
      },
      "outputs": [],
      "source": [
        "    max_depth = [5, 10, 15, 20, 50]\n",
        "    min_samples_leaf = [2, 10, 20, 50]\n",
        "    max_features = [2, 3, 5, 7, 8, 9]\n",
        "    \n",
        "    parameters = []\n",
        "    for i in max_depth:\n",
        "        for j in min_samples_leaf:\n",
        "            for k in max_features:\n",
        "                parameters.append( ( i, j, k ) )\n",
        "                model = DecisionTreeRegressor(max_depth = i, min_samples_leaf = j, max_features = k)\n",
        "                model.fit(X_train, y_train)\n",
        "                test_predict = model.predict(X_test)\n",
        "                mae = mean_absolute_error(y_test, test_pred)\n",
        "\n",
        "                    \n",
        "                    \n",
        "                    "
      ]
    },
    {
      "cell_type": "code",
      "execution_count": null,
      "id": "7d8e0675",
      "metadata": {
        "id": "7d8e0675",
        "outputId": "daf41815-2d08-496c-9eaa-6a419e15fd39"
      },
      "outputs": [
        {
          "data": {
            "text/plain": [
              "{'hyperparameters': {'max_depth': 5,\n",
              "  'min_samples_leaf': 10,\n",
              "  'max_features': 7}}"
            ]
          },
          "execution_count": 528,
          "metadata": {},
          "output_type": "execute_result"
        }
      ],
      "source": [
        "best_hyperparameters(max_depth, min_samples_leaf, max_features)"
      ]
    },
    {
      "cell_type": "code",
      "execution_count": null,
      "id": "7a01b6bf",
      "metadata": {
        "id": "7a01b6bf",
        "outputId": "bd8f85f3-7f19-4790-e0dd-d6a4045a1baf"
      },
      "outputs": [
        {
          "data": {
            "text/plain": [
              "4161574.0604064628"
            ]
          },
          "execution_count": 529,
          "metadata": {},
          "output_type": "execute_result"
        }
      ],
      "source": [
        "DecisionTree = DecisionTreeRegressor(max_depth = 5, min_samples_leaf = 10, max_features= 7)\n",
        "DecisionTree.fit(X_train, y_train)\n",
        "\n",
        "test_predict = DecisionTree.predict(X_test)\n",
        "train_pred = model.predict(X_train)\n",
        "\n",
        "\n",
        "mae = mean_absolute_error(test_predict, y_test)\n",
        "\n",
        "\n",
        "mae\n"
      ]
    },
    {
      "cell_type": "code",
      "execution_count": null,
      "id": "1091bac5",
      "metadata": {
        "id": "1091bac5",
        "outputId": "3239c694-7d0d-4b60-ed7f-514bd97f5158"
      },
      "outputs": [
        {
          "data": {
            "text/plain": [
              "4161574.06"
            ]
          },
          "execution_count": 530,
          "metadata": {},
          "output_type": "execute_result"
        }
      ],
      "source": [
        "DecisionTree_mae = mae\n",
        "DecisionTree_mae = round(mae, 2)\n",
        "DecisionTree_mae"
      ]
    },
    {
      "cell_type": "markdown",
      "id": "71ef72fc-7386-433c-9725-2055f4016ae9",
      "metadata": {
        "id": "71ef72fc-7386-433c-9725-2055f4016ae9"
      },
      "source": [
        "1.18. Compare the results obtained with the best decision tree model against the baseline, default and the best params sgd regressors-"
      ]
    },
    {
      "cell_type": "code",
      "execution_count": null,
      "id": "31f67bcb",
      "metadata": {
        "id": "31f67bcb",
        "outputId": "22b5deff-c95b-45a1-945d-87937972e78a"
      },
      "outputs": [
        {
          "name": "stdout",
          "output_type": "stream",
          "text": [
            "Mean Absolute Error for each model:\n",
            "Baseline: 7640684.55\n",
            "Default SGDRegressor: 5010806.67\n",
            "Best SGDRegressor: 4765899.66\n",
            "DecisionTree: 4161574.06\n"
          ]
        }
      ],
      "source": [
        "print(\"Mean Absolute Error for each model:\")\n",
        "print(f\"Baseline: {baseline_mae}\")\n",
        "print(f\"Default SGDRegressor: {default_mae}\")\n",
        "print(f\"Best SGDRegressor: {best_mae}\")\n",
        "print(f\"DecisionTree: {DecisionTree_mae}\")"
      ]
    },
    {
      "cell_type": "markdown",
      "id": "ce424a87-37af-470d-9a14-ec6ae2258eb1",
      "metadata": {
        "id": "ce424a87-37af-470d-9a14-ec6ae2258eb1"
      },
      "source": [
        "### Analyzing our results"
      ]
    },
    {
      "cell_type": "markdown",
      "id": "ed6c9746-ed98-4075-9a6a-adb24056d217",
      "metadata": {
        "id": "ed6c9746-ed98-4075-9a6a-adb24056d217"
      },
      "source": [
        "Based on what you found, and what you read about players salaries above, answer the following: "
      ]
    },
    {
      "cell_type": "markdown",
      "id": "e204456d-cb86-47a0-9c3c-6307d8a831fa",
      "metadata": {
        "id": "e204456d-cb86-47a0-9c3c-6307d8a831fa"
      },
      "source": [
        "1.19. Which kind of model worked better in this dataset, linear or non linear models? Do you have any hypothesis about why? "
      ]
    },
    {
      "cell_type": "markdown",
      "id": "1d2d0380",
      "metadata": {
        "id": "1d2d0380"
      },
      "source": [
        "The nonlinear model represent a better performance because it is easier to fit the curve and provide a \n",
        "better fit  of the model because it is unbiased but requiere more effort to choose the nonlinear \n",
        "function than the best fit.\n",
        "\n"
      ]
    },
    {
      "cell_type": "markdown",
      "id": "f09e5c20-3f7b-4938-a1b3-34ada990f181",
      "metadata": {
        "id": "f09e5c20-3f7b-4938-a1b3-34ada990f181"
      },
      "source": [
        "1.20. Is there something else we could do to improve our results if wanted to make a more accurate model?"
      ]
    },
    {
      "cell_type": "markdown",
      "id": "8e13cd04-55a1-4d7c-a815-f9410c7ba2e6",
      "metadata": {
        "id": "8e13cd04-55a1-4d7c-a815-f9410c7ba2e6"
      },
      "source": [
        ""
      ]
    },
    {
      "cell_type": "markdown",
      "id": "25e23c2a-a0bf-4d39-bc1b-9524107f3a02",
      "metadata": {
        "id": "25e23c2a-a0bf-4d39-bc1b-9524107f3a02"
      },
      "source": [
        "## Star or no Star? Predicting players All-NBA selections"
      ]
    },
    {
      "cell_type": "markdown",
      "id": "26cd4fec-1b8b-4bfc-8024-dcdd5b8b803a",
      "metadata": {
        "id": "26cd4fec-1b8b-4bfc-8024-dcdd5b8b803a"
      },
      "source": [
        "In this section we're going to try to solve a different question:\n",
        "\n",
        "Can we train a model to predict which players are going to be selected to ALL-NBA teams at the end of the season? This is a [binary classification](https://en.wikipedia.org/wiki/Binary_classification) task, so we're training our first classifier model to solve this problem.\n",
        "\n",
        "Consider that:\n",
        "\n",
        "- Being selected as part of the [All-NBA teams](https://en.wikipedia.org/wiki/All-NBA_Team) is different than being selected for [All-Star Game](https://en.wikipedia.org/wiki/NBA_All-Star_Game). \n",
        "- You're trying to predict All-NBA selections, which takes place after the regular season but before playoffs start, so we're only going to use players and teams statistics about the regular season (you're not going to consider if the players got to the NBA finals for example). \n",
        "- All Star game takes place at the middle point of the regular season, players are selected based on partial season performance, and the general public has 50% of the votes, so it is also a more popularity-based award.\n",
        "- All-NBA teams are divided in first, second and third teams of 5 players each, divided by position: 2 front court players (guards), 2 backcourt players (forwards) and 1 center.\n",
        "- As only 15 players are selected to All-NBA teams each year (out of more than 400 qualifying players), our dataset is going to be imbalanced. You're going to have to find a good strategy to deal with this inbalance."
      ]
    },
    {
      "cell_type": "markdown",
      "id": "ef2353fa-10d7-48d1-85d7-f8743ee86698",
      "metadata": {
        "id": "ef2353fa-10d7-48d1-85d7-f8743ee86698"
      },
      "source": [
        "### Analyzing the data"
      ]
    },
    {
      "cell_type": "markdown",
      "id": "d4159ce5-fec3-48bb-93c5-058f2cbb55c5",
      "metadata": {
        "id": "d4159ce5-fec3-48bb-93c5-058f2cbb55c5"
      },
      "source": [
        "To do this task, you're going to need historical information about All-NBA selections. We'll use a dataset that contains information about players from season starting in 1990 and ending in the 2018-2019 season.\n",
        "The dataset contains statistics for all players, and a column named \"all-nba\" that is going to be our target variable, 1 means the player was selected to an All-NBA team that season.\n"
      ]
    },
    {
      "cell_type": "markdown",
      "id": "e6d64103-d6b5-4544-8ca5-81f99c937d73",
      "metadata": {
        "id": "e6d64103-d6b5-4544-8ca5-81f99c937d73"
      },
      "source": [
        "2.1. Load the dataset \"all_nba_1990_2017_dataset.csv\" from disk, look at the data inside it and print:\n",
        "- number of rows\n",
        "- number of seasons\n",
        "- number of unique players\n",
        "- number of all-nba selections vs non selected "
      ]
    },
    {
      "cell_type": "code",
      "execution_count": null,
      "id": "bb6725f6-418d-4159-b046-3bf33a8ead0b",
      "metadata": {
        "id": "bb6725f6-418d-4159-b046-3bf33a8ead0b",
        "outputId": "5c7cfb13-35fb-4960-afa0-7cc8bb6d948f"
      },
      "outputs": [
        {
          "data": {
            "text/html": [
              "<div>\n",
              "<style scoped>\n",
              "    .dataframe tbody tr th:only-of-type {\n",
              "        vertical-align: middle;\n",
              "    }\n",
              "\n",
              "    .dataframe tbody tr th {\n",
              "        vertical-align: top;\n",
              "    }\n",
              "\n",
              "    .dataframe thead th {\n",
              "        text-align: right;\n",
              "    }\n",
              "</style>\n",
              "<table border=\"1\" class=\"dataframe\">\n",
              "  <thead>\n",
              "    <tr style=\"text-align: right;\">\n",
              "      <th></th>\n",
              "      <th>season_id</th>\n",
              "      <th>player_id</th>\n",
              "      <th>player_season</th>\n",
              "      <th>player</th>\n",
              "      <th>season</th>\n",
              "      <th>season_start</th>\n",
              "      <th>team</th>\n",
              "      <th>games</th>\n",
              "      <th>gamesstarted</th>\n",
              "      <th>mp</th>\n",
              "      <th>...</th>\n",
              "      <th>2p_perc</th>\n",
              "      <th>ft_perc</th>\n",
              "      <th>trb</th>\n",
              "      <th>ast</th>\n",
              "      <th>stl</th>\n",
              "      <th>blk</th>\n",
              "      <th>tov</th>\n",
              "      <th>pf</th>\n",
              "      <th>pts</th>\n",
              "      <th>all_nba</th>\n",
              "    </tr>\n",
              "  </thead>\n",
              "  <tbody>\n",
              "    <tr>\n",
              "      <th>0</th>\n",
              "      <td>0</td>\n",
              "      <td>0</td>\n",
              "      <td>1</td>\n",
              "      <td>Alaa Abdelnaby</td>\n",
              "      <td>1990-91</td>\n",
              "      <td>1990</td>\n",
              "      <td>POR</td>\n",
              "      <td>43</td>\n",
              "      <td>0</td>\n",
              "      <td>6.7</td>\n",
              "      <td>...</td>\n",
              "      <td>0.474</td>\n",
              "      <td>0.568</td>\n",
              "      <td>2.1</td>\n",
              "      <td>0.3</td>\n",
              "      <td>0.1</td>\n",
              "      <td>0.3</td>\n",
              "      <td>0.5</td>\n",
              "      <td>0.9</td>\n",
              "      <td>3.1</td>\n",
              "      <td>0</td>\n",
              "    </tr>\n",
              "    <tr>\n",
              "      <th>1</th>\n",
              "      <td>1</td>\n",
              "      <td>0</td>\n",
              "      <td>2</td>\n",
              "      <td>Alaa Abdelnaby</td>\n",
              "      <td>1991-92</td>\n",
              "      <td>1991</td>\n",
              "      <td>POR</td>\n",
              "      <td>71</td>\n",
              "      <td>1</td>\n",
              "      <td>13.2</td>\n",
              "      <td>...</td>\n",
              "      <td>0.493</td>\n",
              "      <td>0.752</td>\n",
              "      <td>3.7</td>\n",
              "      <td>0.4</td>\n",
              "      <td>0.4</td>\n",
              "      <td>0.2</td>\n",
              "      <td>0.9</td>\n",
              "      <td>1.9</td>\n",
              "      <td>6.1</td>\n",
              "      <td>0</td>\n",
              "    </tr>\n",
              "    <tr>\n",
              "      <th>2</th>\n",
              "      <td>2</td>\n",
              "      <td>0</td>\n",
              "      <td>3</td>\n",
              "      <td>Alaa Abdelnaby</td>\n",
              "      <td>1992-93</td>\n",
              "      <td>1992</td>\n",
              "      <td>TOT</td>\n",
              "      <td>75</td>\n",
              "      <td>52</td>\n",
              "      <td>17.5</td>\n",
              "      <td>...</td>\n",
              "      <td>0.519</td>\n",
              "      <td>0.759</td>\n",
              "      <td>4.5</td>\n",
              "      <td>0.4</td>\n",
              "      <td>0.3</td>\n",
              "      <td>0.3</td>\n",
              "      <td>1.3</td>\n",
              "      <td>2.5</td>\n",
              "      <td>7.7</td>\n",
              "      <td>0</td>\n",
              "    </tr>\n",
              "    <tr>\n",
              "      <th>3</th>\n",
              "      <td>3</td>\n",
              "      <td>0</td>\n",
              "      <td>4</td>\n",
              "      <td>Alaa Abdelnaby</td>\n",
              "      <td>1993-94</td>\n",
              "      <td>1993</td>\n",
              "      <td>BOS</td>\n",
              "      <td>13</td>\n",
              "      <td>0</td>\n",
              "      <td>12.2</td>\n",
              "      <td>...</td>\n",
              "      <td>0.436</td>\n",
              "      <td>0.640</td>\n",
              "      <td>3.5</td>\n",
              "      <td>0.2</td>\n",
              "      <td>0.2</td>\n",
              "      <td>0.2</td>\n",
              "      <td>1.3</td>\n",
              "      <td>1.5</td>\n",
              "      <td>4.9</td>\n",
              "      <td>0</td>\n",
              "    </tr>\n",
              "    <tr>\n",
              "      <th>4</th>\n",
              "      <td>4</td>\n",
              "      <td>0</td>\n",
              "      <td>5</td>\n",
              "      <td>Alaa Abdelnaby</td>\n",
              "      <td>1994-95</td>\n",
              "      <td>1994</td>\n",
              "      <td>TOT</td>\n",
              "      <td>54</td>\n",
              "      <td>0</td>\n",
              "      <td>9.4</td>\n",
              "      <td>...</td>\n",
              "      <td>0.515</td>\n",
              "      <td>0.571</td>\n",
              "      <td>2.1</td>\n",
              "      <td>0.2</td>\n",
              "      <td>0.3</td>\n",
              "      <td>0.2</td>\n",
              "      <td>0.8</td>\n",
              "      <td>1.9</td>\n",
              "      <td>4.7</td>\n",
              "      <td>0</td>\n",
              "    </tr>\n",
              "    <tr>\n",
              "      <th>...</th>\n",
              "      <td>...</td>\n",
              "      <td>...</td>\n",
              "      <td>...</td>\n",
              "      <td>...</td>\n",
              "      <td>...</td>\n",
              "      <td>...</td>\n",
              "      <td>...</td>\n",
              "      <td>...</td>\n",
              "      <td>...</td>\n",
              "      <td>...</td>\n",
              "      <td>...</td>\n",
              "      <td>...</td>\n",
              "      <td>...</td>\n",
              "      <td>...</td>\n",
              "      <td>...</td>\n",
              "      <td>...</td>\n",
              "      <td>...</td>\n",
              "      <td>...</td>\n",
              "      <td>...</td>\n",
              "      <td>...</td>\n",
              "      <td>...</td>\n",
              "    </tr>\n",
              "    <tr>\n",
              "      <th>15348</th>\n",
              "      <td>15348</td>\n",
              "      <td>2817</td>\n",
              "      <td>2</td>\n",
              "      <td>Paul Zipser</td>\n",
              "      <td>2017-18</td>\n",
              "      <td>2017</td>\n",
              "      <td>CHI</td>\n",
              "      <td>54</td>\n",
              "      <td>12</td>\n",
              "      <td>15.3</td>\n",
              "      <td>...</td>\n",
              "      <td>0.355</td>\n",
              "      <td>0.760</td>\n",
              "      <td>2.4</td>\n",
              "      <td>0.9</td>\n",
              "      <td>0.4</td>\n",
              "      <td>0.3</td>\n",
              "      <td>0.8</td>\n",
              "      <td>1.6</td>\n",
              "      <td>4.0</td>\n",
              "      <td>0</td>\n",
              "    </tr>\n",
              "    <tr>\n",
              "      <th>15349</th>\n",
              "      <td>15349</td>\n",
              "      <td>2818</td>\n",
              "      <td>1</td>\n",
              "      <td>Ante Zizic</td>\n",
              "      <td>2017-18</td>\n",
              "      <td>2017</td>\n",
              "      <td>CLE</td>\n",
              "      <td>32</td>\n",
              "      <td>2</td>\n",
              "      <td>6.7</td>\n",
              "      <td>...</td>\n",
              "      <td>0.731</td>\n",
              "      <td>0.724</td>\n",
              "      <td>1.9</td>\n",
              "      <td>0.2</td>\n",
              "      <td>0.1</td>\n",
              "      <td>0.4</td>\n",
              "      <td>0.3</td>\n",
              "      <td>0.9</td>\n",
              "      <td>3.7</td>\n",
              "      <td>0</td>\n",
              "    </tr>\n",
              "    <tr>\n",
              "      <th>15351</th>\n",
              "      <td>15351</td>\n",
              "      <td>2819</td>\n",
              "      <td>1</td>\n",
              "      <td>Jim Zoet</td>\n",
              "      <td>1982-83</td>\n",
              "      <td>1982</td>\n",
              "      <td>DET</td>\n",
              "      <td>7</td>\n",
              "      <td>0</td>\n",
              "      <td>4.3</td>\n",
              "      <td>...</td>\n",
              "      <td>0.200</td>\n",
              "      <td>0.000</td>\n",
              "      <td>1.1</td>\n",
              "      <td>0.1</td>\n",
              "      <td>0.1</td>\n",
              "      <td>0.4</td>\n",
              "      <td>0.6</td>\n",
              "      <td>1.3</td>\n",
              "      <td>0.3</td>\n",
              "      <td>0</td>\n",
              "    </tr>\n",
              "    <tr>\n",
              "      <th>15352</th>\n",
              "      <td>15352</td>\n",
              "      <td>2820</td>\n",
              "      <td>1</td>\n",
              "      <td>Ivica Zubac</td>\n",
              "      <td>2016-17</td>\n",
              "      <td>2016</td>\n",
              "      <td>LAL</td>\n",
              "      <td>38</td>\n",
              "      <td>11</td>\n",
              "      <td>16.0</td>\n",
              "      <td>...</td>\n",
              "      <td>0.536</td>\n",
              "      <td>0.653</td>\n",
              "      <td>4.2</td>\n",
              "      <td>0.8</td>\n",
              "      <td>0.4</td>\n",
              "      <td>0.9</td>\n",
              "      <td>0.8</td>\n",
              "      <td>1.7</td>\n",
              "      <td>7.5</td>\n",
              "      <td>0</td>\n",
              "    </tr>\n",
              "    <tr>\n",
              "      <th>15353</th>\n",
              "      <td>15353</td>\n",
              "      <td>2820</td>\n",
              "      <td>2</td>\n",
              "      <td>Ivica Zubac</td>\n",
              "      <td>2017-18</td>\n",
              "      <td>2017</td>\n",
              "      <td>LAL</td>\n",
              "      <td>43</td>\n",
              "      <td>0</td>\n",
              "      <td>9.5</td>\n",
              "      <td>...</td>\n",
              "      <td>0.504</td>\n",
              "      <td>0.765</td>\n",
              "      <td>2.9</td>\n",
              "      <td>0.6</td>\n",
              "      <td>0.2</td>\n",
              "      <td>0.3</td>\n",
              "      <td>0.6</td>\n",
              "      <td>1.1</td>\n",
              "      <td>3.7</td>\n",
              "      <td>0</td>\n",
              "    </tr>\n",
              "  </tbody>\n",
              "</table>\n",
              "<p>14825 rows × 22 columns</p>\n",
              "</div>"
            ],
            "text/plain": [
              "       season_id  player_id  player_season          player   season  \\\n",
              "0              0          0              1  Alaa Abdelnaby  1990-91   \n",
              "1              1          0              2  Alaa Abdelnaby  1991-92   \n",
              "2              2          0              3  Alaa Abdelnaby  1992-93   \n",
              "3              3          0              4  Alaa Abdelnaby  1993-94   \n",
              "4              4          0              5  Alaa Abdelnaby  1994-95   \n",
              "...          ...        ...            ...             ...      ...   \n",
              "15348      15348       2817              2     Paul Zipser  2017-18   \n",
              "15349      15349       2818              1      Ante Zizic  2017-18   \n",
              "15351      15351       2819              1        Jim Zoet  1982-83   \n",
              "15352      15352       2820              1     Ivica Zubac  2016-17   \n",
              "15353      15353       2820              2     Ivica Zubac  2017-18   \n",
              "\n",
              "       season_start team  games  gamesstarted    mp  ...  2p_perc  ft_perc  \\\n",
              "0              1990  POR     43             0   6.7  ...    0.474    0.568   \n",
              "1              1991  POR     71             1  13.2  ...    0.493    0.752   \n",
              "2              1992  TOT     75            52  17.5  ...    0.519    0.759   \n",
              "3              1993  BOS     13             0  12.2  ...    0.436    0.640   \n",
              "4              1994  TOT     54             0   9.4  ...    0.515    0.571   \n",
              "...             ...  ...    ...           ...   ...  ...      ...      ...   \n",
              "15348          2017  CHI     54            12  15.3  ...    0.355    0.760   \n",
              "15349          2017  CLE     32             2   6.7  ...    0.731    0.724   \n",
              "15351          1982  DET      7             0   4.3  ...    0.200    0.000   \n",
              "15352          2016  LAL     38            11  16.0  ...    0.536    0.653   \n",
              "15353          2017  LAL     43             0   9.5  ...    0.504    0.765   \n",
              "\n",
              "       trb  ast  stl  blk  tov   pf  pts  all_nba  \n",
              "0      2.1  0.3  0.1  0.3  0.5  0.9  3.1        0  \n",
              "1      3.7  0.4  0.4  0.2  0.9  1.9  6.1        0  \n",
              "2      4.5  0.4  0.3  0.3  1.3  2.5  7.7        0  \n",
              "3      3.5  0.2  0.2  0.2  1.3  1.5  4.9        0  \n",
              "4      2.1  0.2  0.3  0.2  0.8  1.9  4.7        0  \n",
              "...    ...  ...  ...  ...  ...  ...  ...      ...  \n",
              "15348  2.4  0.9  0.4  0.3  0.8  1.6  4.0        0  \n",
              "15349  1.9  0.2  0.1  0.4  0.3  0.9  3.7        0  \n",
              "15351  1.1  0.1  0.1  0.4  0.6  1.3  0.3        0  \n",
              "15352  4.2  0.8  0.4  0.9  0.8  1.7  7.5        0  \n",
              "15353  2.9  0.6  0.2  0.3  0.6  1.1  3.7        0  \n",
              "\n",
              "[14825 rows x 22 columns]"
            ]
          },
          "execution_count": 560,
          "metadata": {},
          "output_type": "execute_result"
        }
      ],
      "source": [
        "all_nba_df = pd.read_csv(\"https://raw.githubusercontent.com/anyoneai/notebooks/main/datasets/all_nba_1990_2017_dataset.csv\", index_col=0)\n",
        "all_nba_df"
      ]
    },
    {
      "cell_type": "code",
      "execution_count": null,
      "id": "330ad637",
      "metadata": {
        "id": "330ad637",
        "outputId": "ac8467d4-bd3b-432f-bca4-794962c3e264"
      },
      "outputs": [
        {
          "name": "stdout",
          "output_type": "stream",
          "text": [
            "Number of rows: 14825\n",
            "Number of season: 39\n",
            "Number of unique players: 2718\n",
            "number of all-nba selections: 496 and non selected: 14329\n"
          ]
        }
      ],
      "source": [
        "print(\"Number of rows:\", len(all_nba_df))\n",
        "print(\"Number of season:\", all_nba_df[\"season\"].nunique())\n",
        "print(\"Number of unique players:\", all_nba_df[\"player_id\"].nunique())\n",
        "selected = len(all_nba_df.loc[all_nba_df.all_nba == 1])\n",
        "no_selected = len(all_nba_df.loc[all_nba_df.all_nba == 0])\n",
        "print(\"number of all-nba selections:\",selected, \"and non selected:\",no_selected )\n",
        "\n",
        "\n"
      ]
    },
    {
      "cell_type": "markdown",
      "id": "f268db59-8c9e-446b-be19-290e608169d2",
      "metadata": {
        "id": "f268db59-8c9e-446b-be19-290e608169d2"
      },
      "source": [
        "### Splitting the dataset"
      ]
    },
    {
      "cell_type": "markdown",
      "id": "6b4916b2-e8cf-4e30-a2ac-e1538c2f5cd5",
      "metadata": {
        "id": "6b4916b2-e8cf-4e30-a2ac-e1538c2f5cd5"
      },
      "source": [
        "2.2. Split the dataset in training and test sets. Make sure to keep the distribution of values in the target variable.\n",
        "\n",
        "Use columns: 'team', 'games', 'games_started', 'mp', 'fg_perc', '3p_perc',\n",
        "       '2p_perc', 'ft_perc', 'trb', 'ast', 'stl', 'blk', 'tov', 'pf', 'pts','all_nba'\n",
        "       \n",
        "    "
      ]
    },
    {
      "cell_type": "code",
      "execution_count": null,
      "id": "25cfc4ee-98e7-4b84-98d3-80a91fb44912",
      "metadata": {
        "id": "25cfc4ee-98e7-4b84-98d3-80a91fb44912"
      },
      "outputs": [],
      "source": [
        "y = all_nba_df[[\"all_nba\"]].copy()\n",
        "\n",
        "features = [\"team\", \"games\", \"gamesstarted\", \"mp\", \"fg_perc\", \"3p_perc\", \"2p_perc\", \"ft_perc\", \"trb\", \"ast\", \"stl\", \"blk\", \"tov\", \"pf\", \"pts\"] \n",
        "X = all_nba_df[features].copy()\n",
        "\n",
        "\n",
        "X_train, X_test, y_train, y_test = train_test_split(X, y, test_size = 0.3, random_state=12, stratify=all_nba_df.all_nba)"
      ]
    },
    {
      "cell_type": "markdown",
      "id": "7043db6e-da74-4a04-91d9-4dd0cd830f22",
      "metadata": {
        "id": "7043db6e-da74-4a04-91d9-4dd0cd830f22"
      },
      "source": [
        "### Baseline model and Evaluation Metrics"
      ]
    },
    {
      "cell_type": "markdown",
      "id": "cedaf085-2a23-41ab-a55f-474e2ae6bb9c",
      "metadata": {
        "id": "cedaf085-2a23-41ab-a55f-474e2ae6bb9c"
      },
      "source": [
        "In this oportunity we'll define our baseline model as the model we can train with the minimun amount of work on the dataset. For this you're gonna train a [LogisticRegression](https://scikit-learn.org/stable/modules/generated/sklearn.linear_model.LogisticRegression.html) with default parameters, and without doing any preprocessing to our data."
      ]
    },
    {
      "cell_type": "markdown",
      "id": "67a8999b-2dfe-466b-814c-94ecced9f8dc",
      "metadata": {
        "id": "67a8999b-2dfe-466b-814c-94ecced9f8dc"
      },
      "source": [
        "2.3. Let's start with a simple test. What accuracy would we get if we had a baseline model that always predicted 0 (player not selected to all nba)?"
      ]
    },
    {
      "cell_type": "markdown",
      "id": "6d6c14e2",
      "metadata": {
        "id": "6d6c14e2"
      },
      "source": [
        "The approximation will be 96.65%, quite effective will be the baseline since there are 450 NBA players and 15 players enter"
      ]
    },
    {
      "cell_type": "code",
      "execution_count": null,
      "id": "4aa3bbfb-d2ce-43bc-aea4-f6f7aab0933c",
      "metadata": {
        "id": "4aa3bbfb-d2ce-43bc-aea4-f6f7aab0933c",
        "outputId": "2edff3bb-2c3f-46b3-a6ed-10afe5a9e9b5"
      },
      "outputs": [
        {
          "name": "stdout",
          "output_type": "stream",
          "text": [
            "The precession that we will obtain would be:  96.65 %\n"
          ]
        }
      ],
      "source": [
        "accuraty = round(len(all_nba_df.loc[all_nba_df.all_nba == 0]) / len(all_nba_df[\"all_nba\"]), 4) * 100\n",
        "print(\"The precession that we will obtain would be: \", accuraty, \"%\") "
      ]
    },
    {
      "cell_type": "markdown",
      "id": "a7f436a6-d3fe-4ead-8c09-b450d850b36f",
      "metadata": {
        "id": "a7f436a6-d3fe-4ead-8c09-b450d850b36f"
      },
      "source": [
        "2.4. What does this tells us about the data and the use of accuracy as an evaluation metric?"
      ]
    },
    {
      "cell_type": "markdown",
      "id": "b630045a",
      "metadata": {
        "id": "b630045a"
      },
      "source": [
        "The precession however represents the performance of our model \n"
      ]
    },
    {
      "cell_type": "markdown",
      "id": "df1a22d1-3fd1-4e6f-9139-52a3466fb1c4",
      "metadata": {
        "id": "df1a22d1-3fd1-4e6f-9139-52a3466fb1c4"
      },
      "source": [
        "2.5. Scale all numerical features in the dataset (we will keep this scaling for future modeling, so make sure to do it in place"
      ]
    },
    {
      "cell_type": "code",
      "execution_count": null,
      "id": "e4d2a505-f193-4b94-89c3-56cba2c4db54",
      "metadata": {
        "id": "e4d2a505-f193-4b94-89c3-56cba2c4db54"
      },
      "outputs": [],
      "source": [
        "columns_names = ['games', 'gamesstarted', 'mp', 'trb', 'ast', 'stl', 'blk', 'tov',\n",
        "       'pf', 'pts']\n",
        "\n",
        "\n",
        "features = X_train[columns_names]\n",
        "\n",
        "scaler = StandardScaler()\n",
        "\n",
        "X_train[columns_names] = scaler.fit_transform(features.values)\n",
        "\n",
        "\n"
      ]
    },
    {
      "cell_type": "code",
      "execution_count": null,
      "id": "fd953503",
      "metadata": {
        "id": "fd953503"
      },
      "outputs": [],
      "source": [
        "columns_names = ['games', 'gamesstarted', 'mp', 'trb', 'ast', 'stl', 'blk', 'tov',\n",
        "       'pf', 'pts']\n",
        "\n",
        "\n",
        "features = X_test[columns_names]\n",
        "\n",
        "scaler = StandardScaler()\n",
        "\n",
        "X_test[columns_names] = scaler.fit_transform(features.values)\n",
        "\n",
        "\n"
      ]
    },
    {
      "cell_type": "markdown",
      "id": "0ccfd642-fd2a-4ce6-af92-901156e2a009",
      "metadata": {
        "id": "0ccfd642-fd2a-4ce6-af92-901156e2a009"
      },
      "source": [
        "2.6. Train a LogisticRegression with default parameters, use only the numerical features (omit the team information for now). This will be our baseline model. "
      ]
    },
    {
      "cell_type": "code",
      "execution_count": null,
      "id": "6f9ffef5-6333-481e-816f-9125c95fe117",
      "metadata": {
        "id": "6f9ffef5-6333-481e-816f-9125c95fe117"
      },
      "outputs": [],
      "source": [
        "\n",
        "model = LogisticRegression(penalty='l2', dual=False, tol=0.0001, C=1.0, fit_intercept=True, intercept_scaling=1, class_weight=None, random_state=None, solver='lbfgs', max_iter=100, multi_class='auto', verbose=0, warm_start=False, n_jobs=None, l1_ratio=None)\n",
        "\n",
        "model.fit(X_train[[\"games\",\"gamesstarted\",\"mp\",\"fg_perc\",\"3p_perc\",\"2p_perc\",\"ft_perc\",\"trb\",\"ast\",\"stl\",\"blk\",\"tov\",\"pf\",\"pts\"]], y_train)\n",
        "\n",
        "test_predict = model.predict(X_test[[\"games\",\"gamesstarted\",\"mp\",\"fg_perc\",\"3p_perc\",\"2p_perc\",\"ft_perc\",\"trb\",\"ast\",\"stl\",\"blk\",\"tov\",\"pf\",\"pts\"]])\n",
        "\n",
        "\n"
      ]
    },
    {
      "cell_type": "markdown",
      "id": "0f06758a-f2dd-4339-b170-275b428fdb4e",
      "metadata": {
        "id": "0f06758a-f2dd-4339-b170-275b428fdb4e"
      },
      "source": [
        "2.7. Evaluate our baseline model using this metrics: \n",
        "\n",
        "    - accuracy\n",
        "    - precision\n",
        "    - recall\n",
        "    - f1"
      ]
    },
    {
      "cell_type": "code",
      "execution_count": null,
      "id": "b953324f-f7ae-4823-a801-f06d27d6eb43",
      "metadata": {
        "id": "b953324f-f7ae-4823-a801-f06d27d6eb43",
        "outputId": "eb1727d5-15fd-465d-e84f-11847e154260"
      },
      "outputs": [
        {
          "name": "stdout",
          "output_type": "stream",
          "text": [
            "Accuracy:  0.9826888489208633\n",
            "Precision score: 0.8050847457627118\n",
            "Recall:  0.6375838926174496\n",
            "F1 0.7116104868913857\n"
          ]
        }
      ],
      "source": [
        "print(\"Accuracy: \", accuracy_score(y_test, test_predict))\n",
        "print(\"Precision score:\", precision_score(y_test, test_predict))\n",
        "print(\"Recall: \", recall_score(y_test, test_predict))\n",
        "print(\"F1\", f1_score(y_test, test_predict))\n",
        "\n",
        "\n"
      ]
    },
    {
      "cell_type": "markdown",
      "id": "7a540e7b-387d-4e2b-a441-d0c5173bdbf7",
      "metadata": {
        "id": "7a540e7b-387d-4e2b-a441-d0c5173bdbf7"
      },
      "source": [
        "From now on, you'll be evaluating you model primarily using the F1 Score metric, but we also want to avoid models that have very low recall. "
      ]
    },
    {
      "cell_type": "markdown",
      "id": "2054a43f-55ec-45fc-9ead-a7699d8aa2b0",
      "metadata": {
        "id": "2054a43f-55ec-45fc-9ead-a7699d8aa2b0"
      },
      "source": [
        "\n",
        "### Classification"
      ]
    },
    {
      "cell_type": "markdown",
      "id": "1e2847f3-f02c-4308-8a0c-41ba79af0781",
      "metadata": {
        "id": "1e2847f3-f02c-4308-8a0c-41ba79af0781"
      },
      "source": [
        "#### Feature engineering"
      ]
    },
    {
      "cell_type": "markdown",
      "id": "27b6ddb3-576c-4238-9ec3-534aafee764b",
      "metadata": {
        "id": "27b6ddb3-576c-4238-9ec3-534aafee764b"
      },
      "source": [
        "2.8. One hot encode the Team feature. Make sure to drop the original column."
      ]
    },
    {
      "cell_type": "code",
      "execution_count": null,
      "id": "f4ca83ec-7aab-4cff-8ac7-1b224ff54dde",
      "metadata": {
        "id": "f4ca83ec-7aab-4cff-8ac7-1b224ff54dde",
        "outputId": "8d6a7f5b-4af6-485d-dfb9-f896e9e642be"
      },
      "outputs": [
        {
          "data": {
            "text/html": [
              "<div>\n",
              "<style scoped>\n",
              "    .dataframe tbody tr th:only-of-type {\n",
              "        vertical-align: middle;\n",
              "    }\n",
              "\n",
              "    .dataframe tbody tr th {\n",
              "        vertical-align: top;\n",
              "    }\n",
              "\n",
              "    .dataframe thead th {\n",
              "        text-align: right;\n",
              "    }\n",
              "</style>\n",
              "<table border=\"1\" class=\"dataframe\">\n",
              "  <thead>\n",
              "    <tr style=\"text-align: right;\">\n",
              "      <th></th>\n",
              "      <th>team</th>\n",
              "      <th>games</th>\n",
              "      <th>gamesstarted</th>\n",
              "      <th>mp</th>\n",
              "      <th>fg_perc</th>\n",
              "      <th>3p_perc</th>\n",
              "      <th>2p_perc</th>\n",
              "      <th>ft_perc</th>\n",
              "      <th>trb</th>\n",
              "      <th>ast</th>\n",
              "      <th>stl</th>\n",
              "      <th>blk</th>\n",
              "      <th>tov</th>\n",
              "      <th>pf</th>\n",
              "      <th>pts</th>\n",
              "    </tr>\n",
              "  </thead>\n",
              "  <tbody>\n",
              "    <tr>\n",
              "      <th>11032</th>\n",
              "      <td>29</td>\n",
              "      <td>-1.046435</td>\n",
              "      <td>-0.886907</td>\n",
              "      <td>-1.397855</td>\n",
              "      <td>0.475</td>\n",
              "      <td>0.000</td>\n",
              "      <td>0.487</td>\n",
              "      <td>0.676</td>\n",
              "      <td>-0.974636</td>\n",
              "      <td>-0.835741</td>\n",
              "      <td>-1.195323</td>\n",
              "      <td>-0.236442</td>\n",
              "      <td>-0.560691</td>\n",
              "      <td>-0.517812</td>\n",
              "      <td>-0.993322</td>\n",
              "    </tr>\n",
              "    <tr>\n",
              "      <th>2865</th>\n",
              "      <td>29</td>\n",
              "      <td>0.859665</td>\n",
              "      <td>-0.145396</td>\n",
              "      <td>-0.325556</td>\n",
              "      <td>0.422</td>\n",
              "      <td>0.000</td>\n",
              "      <td>0.424</td>\n",
              "      <td>0.664</td>\n",
              "      <td>0.166596</td>\n",
              "      <td>-0.306937</td>\n",
              "      <td>-0.369513</td>\n",
              "      <td>-0.236442</td>\n",
              "      <td>-0.194308</td>\n",
              "      <td>0.418391</td>\n",
              "      <td>-0.529422</td>\n",
              "    </tr>\n",
              "    <tr>\n",
              "      <th>12103</th>\n",
              "      <td>31</td>\n",
              "      <td>-0.331647</td>\n",
              "      <td>0.191655</td>\n",
              "      <td>0.659009</td>\n",
              "      <td>0.409</td>\n",
              "      <td>0.295</td>\n",
              "      <td>0.464</td>\n",
              "      <td>0.644</td>\n",
              "      <td>-0.266285</td>\n",
              "      <td>0.063225</td>\n",
              "      <td>0.249844</td>\n",
              "      <td>-0.435014</td>\n",
              "      <td>-0.316436</td>\n",
              "      <td>-0.283761</td>\n",
              "      <td>-0.131794</td>\n",
              "    </tr>\n",
              "    <tr>\n",
              "      <th>12620</th>\n",
              "      <td>8</td>\n",
              "      <td>0.978797</td>\n",
              "      <td>0.528705</td>\n",
              "      <td>0.083867</td>\n",
              "      <td>0.435</td>\n",
              "      <td>0.222</td>\n",
              "      <td>0.438</td>\n",
              "      <td>0.835</td>\n",
              "      <td>0.324008</td>\n",
              "      <td>-0.201177</td>\n",
              "      <td>0.662748</td>\n",
              "      <td>0.160702</td>\n",
              "      <td>-0.072180</td>\n",
              "      <td>1.939720</td>\n",
              "      <td>0.083588</td>\n",
              "    </tr>\n",
              "    <tr>\n",
              "      <th>7515</th>\n",
              "      <td>34</td>\n",
              "      <td>0.939086</td>\n",
              "      <td>1.405036</td>\n",
              "      <td>1.234151</td>\n",
              "      <td>0.492</td>\n",
              "      <td>0.000</td>\n",
              "      <td>0.494</td>\n",
              "      <td>0.712</td>\n",
              "      <td>2.803236</td>\n",
              "      <td>0.063225</td>\n",
              "      <td>1.695010</td>\n",
              "      <td>2.940711</td>\n",
              "      <td>1.881866</td>\n",
              "      <td>2.641872</td>\n",
              "      <td>1.574695</td>\n",
              "    </tr>\n",
              "    <tr>\n",
              "      <th>...</th>\n",
              "      <td>...</td>\n",
              "      <td>...</td>\n",
              "      <td>...</td>\n",
              "      <td>...</td>\n",
              "      <td>...</td>\n",
              "      <td>...</td>\n",
              "      <td>...</td>\n",
              "      <td>...</td>\n",
              "      <td>...</td>\n",
              "      <td>...</td>\n",
              "      <td>...</td>\n",
              "      <td>...</td>\n",
              "      <td>...</td>\n",
              "      <td>...</td>\n",
              "      <td>...</td>\n",
              "    </tr>\n",
              "    <tr>\n",
              "      <th>14107</th>\n",
              "      <td>32</td>\n",
              "      <td>0.264009</td>\n",
              "      <td>-0.853202</td>\n",
              "      <td>-0.452282</td>\n",
              "      <td>0.480</td>\n",
              "      <td>0.333</td>\n",
              "      <td>0.482</td>\n",
              "      <td>0.629</td>\n",
              "      <td>0.166596</td>\n",
              "      <td>-0.729980</td>\n",
              "      <td>-0.988870</td>\n",
              "      <td>0.557846</td>\n",
              "      <td>-0.194308</td>\n",
              "      <td>-0.283761</td>\n",
              "      <td>-0.496287</td>\n",
              "    </tr>\n",
              "    <tr>\n",
              "      <th>12396</th>\n",
              "      <td>18</td>\n",
              "      <td>0.541982</td>\n",
              "      <td>0.629820</td>\n",
              "      <td>0.308075</td>\n",
              "      <td>0.393</td>\n",
              "      <td>0.331</td>\n",
              "      <td>0.415</td>\n",
              "      <td>0.782</td>\n",
              "      <td>0.087891</td>\n",
              "      <td>0.856430</td>\n",
              "      <td>0.043391</td>\n",
              "      <td>-0.236442</td>\n",
              "      <td>0.172076</td>\n",
              "      <td>0.535416</td>\n",
              "      <td>-0.164930</td>\n",
              "    </tr>\n",
              "    <tr>\n",
              "      <th>6126</th>\n",
              "      <td>12</td>\n",
              "      <td>0.700824</td>\n",
              "      <td>-0.516151</td>\n",
              "      <td>-0.471779</td>\n",
              "      <td>0.491</td>\n",
              "      <td>0.000</td>\n",
              "      <td>0.494</td>\n",
              "      <td>0.706</td>\n",
              "      <td>0.284655</td>\n",
              "      <td>-0.782860</td>\n",
              "      <td>-0.988870</td>\n",
              "      <td>0.557846</td>\n",
              "      <td>-0.438564</td>\n",
              "      <td>0.301365</td>\n",
              "      <td>-0.446583</td>\n",
              "    </tr>\n",
              "    <tr>\n",
              "      <th>3311</th>\n",
              "      <td>13</td>\n",
              "      <td>-0.212516</td>\n",
              "      <td>-0.853202</td>\n",
              "      <td>0.532283</td>\n",
              "      <td>0.471</td>\n",
              "      <td>0.000</td>\n",
              "      <td>0.471</td>\n",
              "      <td>0.703</td>\n",
              "      <td>1.347181</td>\n",
              "      <td>-0.624219</td>\n",
              "      <td>-0.575966</td>\n",
              "      <td>0.954990</td>\n",
              "      <td>-0.316436</td>\n",
              "      <td>1.003517</td>\n",
              "      <td>0.182995</td>\n",
              "    </tr>\n",
              "    <tr>\n",
              "      <th>9777</th>\n",
              "      <td>17</td>\n",
              "      <td>-1.602381</td>\n",
              "      <td>-0.886907</td>\n",
              "      <td>-0.296312</td>\n",
              "      <td>0.416</td>\n",
              "      <td>0.391</td>\n",
              "      <td>0.426</td>\n",
              "      <td>0.500</td>\n",
              "      <td>-0.541755</td>\n",
              "      <td>-0.148296</td>\n",
              "      <td>0.456296</td>\n",
              "      <td>-0.435014</td>\n",
              "      <td>-0.194308</td>\n",
              "      <td>-0.166736</td>\n",
              "      <td>-0.430015</td>\n",
              "    </tr>\n",
              "  </tbody>\n",
              "</table>\n",
              "<p>10377 rows × 15 columns</p>\n",
              "</div>"
            ],
            "text/plain": [
              "       team     games  gamesstarted        mp  fg_perc  3p_perc  2p_perc  \\\n",
              "11032    29 -1.046435     -0.886907 -1.397855    0.475    0.000    0.487   \n",
              "2865     29  0.859665     -0.145396 -0.325556    0.422    0.000    0.424   \n",
              "12103    31 -0.331647      0.191655  0.659009    0.409    0.295    0.464   \n",
              "12620     8  0.978797      0.528705  0.083867    0.435    0.222    0.438   \n",
              "7515     34  0.939086      1.405036  1.234151    0.492    0.000    0.494   \n",
              "...     ...       ...           ...       ...      ...      ...      ...   \n",
              "14107    32  0.264009     -0.853202 -0.452282    0.480    0.333    0.482   \n",
              "12396    18  0.541982      0.629820  0.308075    0.393    0.331    0.415   \n",
              "6126     12  0.700824     -0.516151 -0.471779    0.491    0.000    0.494   \n",
              "3311     13 -0.212516     -0.853202  0.532283    0.471    0.000    0.471   \n",
              "9777     17 -1.602381     -0.886907 -0.296312    0.416    0.391    0.426   \n",
              "\n",
              "       ft_perc       trb       ast       stl       blk       tov        pf  \\\n",
              "11032    0.676 -0.974636 -0.835741 -1.195323 -0.236442 -0.560691 -0.517812   \n",
              "2865     0.664  0.166596 -0.306937 -0.369513 -0.236442 -0.194308  0.418391   \n",
              "12103    0.644 -0.266285  0.063225  0.249844 -0.435014 -0.316436 -0.283761   \n",
              "12620    0.835  0.324008 -0.201177  0.662748  0.160702 -0.072180  1.939720   \n",
              "7515     0.712  2.803236  0.063225  1.695010  2.940711  1.881866  2.641872   \n",
              "...        ...       ...       ...       ...       ...       ...       ...   \n",
              "14107    0.629  0.166596 -0.729980 -0.988870  0.557846 -0.194308 -0.283761   \n",
              "12396    0.782  0.087891  0.856430  0.043391 -0.236442  0.172076  0.535416   \n",
              "6126     0.706  0.284655 -0.782860 -0.988870  0.557846 -0.438564  0.301365   \n",
              "3311     0.703  1.347181 -0.624219 -0.575966  0.954990 -0.316436  1.003517   \n",
              "9777     0.500 -0.541755 -0.148296  0.456296 -0.435014 -0.194308 -0.166736   \n",
              "\n",
              "            pts  \n",
              "11032 -0.993322  \n",
              "2865  -0.529422  \n",
              "12103 -0.131794  \n",
              "12620  0.083588  \n",
              "7515   1.574695  \n",
              "...         ...  \n",
              "14107 -0.496287  \n",
              "12396 -0.164930  \n",
              "6126  -0.446583  \n",
              "3311   0.182995  \n",
              "9777  -0.430015  \n",
              "\n",
              "[10377 rows x 15 columns]"
            ]
          },
          "execution_count": 568,
          "metadata": {},
          "output_type": "execute_result"
        }
      ],
      "source": [
        "x2 = X_train[[\"team\"]]\n",
        "\n",
        "le = preprocessing.LabelEncoder()\n",
        "\n",
        "\n",
        "X_train[[\"team\"]] = x2.apply(le.fit_transform)\n",
        "X_train\n",
        "\n",
        "\n"
      ]
    },
    {
      "cell_type": "code",
      "execution_count": null,
      "id": "4c2642c5",
      "metadata": {
        "id": "4c2642c5",
        "outputId": "b5e23256-17ac-45b3-fe8f-a8a4c446fad3"
      },
      "outputs": [
        {
          "data": {
            "text/html": [
              "<div>\n",
              "<style scoped>\n",
              "    .dataframe tbody tr th:only-of-type {\n",
              "        vertical-align: middle;\n",
              "    }\n",
              "\n",
              "    .dataframe tbody tr th {\n",
              "        vertical-align: top;\n",
              "    }\n",
              "\n",
              "    .dataframe thead th {\n",
              "        text-align: right;\n",
              "    }\n",
              "</style>\n",
              "<table border=\"1\" class=\"dataframe\">\n",
              "  <thead>\n",
              "    <tr style=\"text-align: right;\">\n",
              "      <th></th>\n",
              "      <th>team</th>\n",
              "      <th>games</th>\n",
              "      <th>gamesstarted</th>\n",
              "      <th>mp</th>\n",
              "      <th>fg_perc</th>\n",
              "      <th>3p_perc</th>\n",
              "      <th>2p_perc</th>\n",
              "      <th>ft_perc</th>\n",
              "      <th>trb</th>\n",
              "      <th>ast</th>\n",
              "      <th>stl</th>\n",
              "      <th>blk</th>\n",
              "      <th>tov</th>\n",
              "      <th>pf</th>\n",
              "      <th>pts</th>\n",
              "    </tr>\n",
              "  </thead>\n",
              "  <tbody>\n",
              "    <tr>\n",
              "      <th>4338</th>\n",
              "      <td>25</td>\n",
              "      <td>0.431158</td>\n",
              "      <td>1.339374</td>\n",
              "      <td>1.053158</td>\n",
              "      <td>0.395</td>\n",
              "      <td>0.318</td>\n",
              "      <td>0.431</td>\n",
              "      <td>0.721</td>\n",
              "      <td>-0.215590</td>\n",
              "      <td>2.036982</td>\n",
              "      <td>1.128880</td>\n",
              "      <td>-0.048593</td>\n",
              "      <td>0.930577</td>\n",
              "      <td>0.551809</td>\n",
              "      <td>0.257507</td>\n",
              "    </tr>\n",
              "    <tr>\n",
              "      <th>1996</th>\n",
              "      <td>8</td>\n",
              "      <td>-0.395425</td>\n",
              "      <td>-0.321787</td>\n",
              "      <td>-0.009900</td>\n",
              "      <td>0.525</td>\n",
              "      <td>0.313</td>\n",
              "      <td>0.544</td>\n",
              "      <td>0.690</td>\n",
              "      <td>0.128446</td>\n",
              "      <td>-0.407675</td>\n",
              "      <td>0.075366</td>\n",
              "      <td>-0.048593</td>\n",
              "      <td>-0.799240</td>\n",
              "      <td>1.023003</td>\n",
              "      <td>-0.398184</td>\n",
              "    </tr>\n",
              "    <tr>\n",
              "      <th>12191</th>\n",
              "      <td>32</td>\n",
              "      <td>-2.087954</td>\n",
              "      <td>-0.864207</td>\n",
              "      <td>-1.970217</td>\n",
              "      <td>0.000</td>\n",
              "      <td>0.000</td>\n",
              "      <td>0.000</td>\n",
              "      <td>0.000</td>\n",
              "      <td>-1.362378</td>\n",
              "      <td>-1.005257</td>\n",
              "      <td>-1.399554</td>\n",
              "      <td>-0.794547</td>\n",
              "      <td>-1.540591</td>\n",
              "      <td>-2.275352</td>\n",
              "      <td>-1.373313</td>\n",
              "    </tr>\n",
              "    <tr>\n",
              "      <th>4516</th>\n",
              "      <td>34</td>\n",
              "      <td>0.234353</td>\n",
              "      <td>-0.694701</td>\n",
              "      <td>-0.799878</td>\n",
              "      <td>0.406</td>\n",
              "      <td>0.200</td>\n",
              "      <td>0.421</td>\n",
              "      <td>0.643</td>\n",
              "      <td>-0.674305</td>\n",
              "      <td>-0.624978</td>\n",
              "      <td>-0.978148</td>\n",
              "      <td>-0.235081</td>\n",
              "      <td>-0.922799</td>\n",
              "      <td>-0.154981</td>\n",
              "      <td>-0.801685</td>\n",
              "    </tr>\n",
              "    <tr>\n",
              "      <th>9447</th>\n",
              "      <td>37</td>\n",
              "      <td>-1.340093</td>\n",
              "      <td>-0.864207</td>\n",
              "      <td>-1.121721</td>\n",
              "      <td>0.282</td>\n",
              "      <td>0.083</td>\n",
              "      <td>0.370</td>\n",
              "      <td>0.722</td>\n",
              "      <td>-0.674305</td>\n",
              "      <td>-0.462000</td>\n",
              "      <td>-0.556742</td>\n",
              "      <td>-0.421570</td>\n",
              "      <td>-0.922799</td>\n",
              "      <td>-0.272780</td>\n",
              "      <td>-1.070687</td>\n",
              "    </tr>\n",
              "    <tr>\n",
              "      <th>...</th>\n",
              "      <td>...</td>\n",
              "      <td>...</td>\n",
              "      <td>...</td>\n",
              "      <td>...</td>\n",
              "      <td>...</td>\n",
              "      <td>...</td>\n",
              "      <td>...</td>\n",
              "      <td>...</td>\n",
              "      <td>...</td>\n",
              "      <td>...</td>\n",
              "      <td>...</td>\n",
              "      <td>...</td>\n",
              "      <td>...</td>\n",
              "      <td>...</td>\n",
              "      <td>...</td>\n",
              "    </tr>\n",
              "    <tr>\n",
              "      <th>10876</th>\n",
              "      <td>20</td>\n",
              "      <td>0.903492</td>\n",
              "      <td>0.390139</td>\n",
              "      <td>0.604528</td>\n",
              "      <td>0.422</td>\n",
              "      <td>0.368</td>\n",
              "      <td>0.448</td>\n",
              "      <td>0.759</td>\n",
              "      <td>-0.100911</td>\n",
              "      <td>0.298559</td>\n",
              "      <td>-0.135337</td>\n",
              "      <td>-0.421570</td>\n",
              "      <td>0.436343</td>\n",
              "      <td>0.198414</td>\n",
              "      <td>0.576946</td>\n",
              "    </tr>\n",
              "    <tr>\n",
              "      <th>8708</th>\n",
              "      <td>15</td>\n",
              "      <td>-0.041175</td>\n",
              "      <td>-0.830306</td>\n",
              "      <td>-0.985182</td>\n",
              "      <td>0.455</td>\n",
              "      <td>0.000</td>\n",
              "      <td>0.455</td>\n",
              "      <td>0.608</td>\n",
              "      <td>-0.521400</td>\n",
              "      <td>-0.842280</td>\n",
              "      <td>-0.978148</td>\n",
              "      <td>0.324384</td>\n",
              "      <td>-0.922799</td>\n",
              "      <td>0.080616</td>\n",
              "      <td>-1.020249</td>\n",
              "    </tr>\n",
              "    <tr>\n",
              "      <th>4009</th>\n",
              "      <td>7</td>\n",
              "      <td>0.352436</td>\n",
              "      <td>1.237670</td>\n",
              "      <td>1.150686</td>\n",
              "      <td>0.453</td>\n",
              "      <td>0.413</td>\n",
              "      <td>0.466</td>\n",
              "      <td>0.707</td>\n",
              "      <td>0.510709</td>\n",
              "      <td>1.059119</td>\n",
              "      <td>1.128880</td>\n",
              "      <td>-0.235081</td>\n",
              "      <td>0.559902</td>\n",
              "      <td>0.551809</td>\n",
              "      <td>0.694634</td>\n",
              "    </tr>\n",
              "    <tr>\n",
              "      <th>9042</th>\n",
              "      <td>26</td>\n",
              "      <td>-0.867759</td>\n",
              "      <td>-0.796405</td>\n",
              "      <td>-0.487788</td>\n",
              "      <td>0.533</td>\n",
              "      <td>0.000</td>\n",
              "      <td>0.540</td>\n",
              "      <td>0.625</td>\n",
              "      <td>0.625388</td>\n",
              "      <td>-0.787955</td>\n",
              "      <td>-0.346040</td>\n",
              "      <td>0.137896</td>\n",
              "      <td>-0.305007</td>\n",
              "      <td>0.434011</td>\n",
              "      <td>-0.314121</td>\n",
              "    </tr>\n",
              "    <tr>\n",
              "      <th>7734</th>\n",
              "      <td>16</td>\n",
              "      <td>-0.670953</td>\n",
              "      <td>-0.084479</td>\n",
              "      <td>-0.585316</td>\n",
              "      <td>0.515</td>\n",
              "      <td>0.000</td>\n",
              "      <td>0.519</td>\n",
              "      <td>0.759</td>\n",
              "      <td>-0.024459</td>\n",
              "      <td>-0.570652</td>\n",
              "      <td>-0.135337</td>\n",
              "      <td>0.510873</td>\n",
              "      <td>-0.428565</td>\n",
              "      <td>1.140801</td>\n",
              "      <td>-0.667185</td>\n",
              "    </tr>\n",
              "  </tbody>\n",
              "</table>\n",
              "<p>4448 rows × 15 columns</p>\n",
              "</div>"
            ],
            "text/plain": [
              "       team     games  gamesstarted        mp  fg_perc  3p_perc  2p_perc  \\\n",
              "4338     25  0.431158      1.339374  1.053158    0.395    0.318    0.431   \n",
              "1996      8 -0.395425     -0.321787 -0.009900    0.525    0.313    0.544   \n",
              "12191    32 -2.087954     -0.864207 -1.970217    0.000    0.000    0.000   \n",
              "4516     34  0.234353     -0.694701 -0.799878    0.406    0.200    0.421   \n",
              "9447     37 -1.340093     -0.864207 -1.121721    0.282    0.083    0.370   \n",
              "...     ...       ...           ...       ...      ...      ...      ...   \n",
              "10876    20  0.903492      0.390139  0.604528    0.422    0.368    0.448   \n",
              "8708     15 -0.041175     -0.830306 -0.985182    0.455    0.000    0.455   \n",
              "4009      7  0.352436      1.237670  1.150686    0.453    0.413    0.466   \n",
              "9042     26 -0.867759     -0.796405 -0.487788    0.533    0.000    0.540   \n",
              "7734     16 -0.670953     -0.084479 -0.585316    0.515    0.000    0.519   \n",
              "\n",
              "       ft_perc       trb       ast       stl       blk       tov        pf  \\\n",
              "4338     0.721 -0.215590  2.036982  1.128880 -0.048593  0.930577  0.551809   \n",
              "1996     0.690  0.128446 -0.407675  0.075366 -0.048593 -0.799240  1.023003   \n",
              "12191    0.000 -1.362378 -1.005257 -1.399554 -0.794547 -1.540591 -2.275352   \n",
              "4516     0.643 -0.674305 -0.624978 -0.978148 -0.235081 -0.922799 -0.154981   \n",
              "9447     0.722 -0.674305 -0.462000 -0.556742 -0.421570 -0.922799 -0.272780   \n",
              "...        ...       ...       ...       ...       ...       ...       ...   \n",
              "10876    0.759 -0.100911  0.298559 -0.135337 -0.421570  0.436343  0.198414   \n",
              "8708     0.608 -0.521400 -0.842280 -0.978148  0.324384 -0.922799  0.080616   \n",
              "4009     0.707  0.510709  1.059119  1.128880 -0.235081  0.559902  0.551809   \n",
              "9042     0.625  0.625388 -0.787955 -0.346040  0.137896 -0.305007  0.434011   \n",
              "7734     0.759 -0.024459 -0.570652 -0.135337  0.510873 -0.428565  1.140801   \n",
              "\n",
              "            pts  \n",
              "4338   0.257507  \n",
              "1996  -0.398184  \n",
              "12191 -1.373313  \n",
              "4516  -0.801685  \n",
              "9447  -1.070687  \n",
              "...         ...  \n",
              "10876  0.576946  \n",
              "8708  -1.020249  \n",
              "4009   0.694634  \n",
              "9042  -0.314121  \n",
              "7734  -0.667185  \n",
              "\n",
              "[4448 rows x 15 columns]"
            ]
          },
          "execution_count": 569,
          "metadata": {},
          "output_type": "execute_result"
        }
      ],
      "source": [
        "x2 = X_test[[\"team\"]]\n",
        "\n",
        "le = preprocessing.LabelEncoder()\n",
        "\n",
        "\n",
        "X_test[[\"team\"]] = x2.apply(le.fit_transform)\n",
        "X_test\n",
        "\n",
        "\n"
      ]
    },
    {
      "cell_type": "markdown",
      "id": "6592c6c0-7ec8-49ac-936c-2d0fb84ccfef",
      "metadata": {
        "id": "6592c6c0-7ec8-49ac-936c-2d0fb84ccfef",
        "tags": []
      },
      "source": [
        "#### Modeling"
      ]
    },
    {
      "cell_type": "markdown",
      "id": "06240cb2-de21-4d4e-ae0e-0f90c3c0453a",
      "metadata": {
        "id": "06240cb2-de21-4d4e-ae0e-0f90c3c0453a"
      },
      "source": [
        "2.9. Train a logistic regresion model, find the best hyperparameters for: tols, C and max_iter. Try at least 4 values of each parameter. Remember to select based on f1 score, but report also precision and recall. Save the best performing model to use in the next steps."
      ]
    },
    {
      "cell_type": "code",
      "execution_count": null,
      "id": "ef23bcc0",
      "metadata": {
        "id": "ef23bcc0",
        "outputId": "6e21dc00-5de8-46d1-bde1-7d57f6c8750c"
      },
      "outputs": [
        {
          "name": "stdout",
          "output_type": "stream",
          "text": [
            "Precision score: 0.8205128205128205\n",
            "Recall:  0.6442953020134228\n",
            "F1 0.7218045112781954\n"
          ]
        }
      ],
      "source": [
        "model_nba = LogisticRegression(C= 0.5, max_iter = 100000, tol = 2,random_state=42)\n",
        "\n",
        "model_nba.fit(X_train, y_train)\n",
        "\n",
        "test_predict = model_nba.predict(X_test)\n",
        "\n",
        "\n",
        "print(\"Precision score:\", precision_score(y_test, test_predict))\n",
        "print(\"Recall: \", recall_score(y_test, test_predict))\n",
        "print(\"F1\", f1_score(y_test, test_predict))\n",
        "\n"
      ]
    },
    {
      "cell_type": "markdown",
      "id": "45c0c3bd-b431-40f1-abbb-4e90b7479411",
      "metadata": {
        "id": "45c0c3bd-b431-40f1-abbb-4e90b7479411"
      },
      "source": [
        "#### Evaluating on New Data"
      ]
    },
    {
      "cell_type": "markdown",
      "id": "3a5352ce-df8a-4c9d-b583-65255774f9d9",
      "metadata": {
        "id": "3a5352ce-df8a-4c9d-b583-65255774f9d9"
      },
      "source": [
        "You're now going to evaluate the results on a test dataset that has not being used to train or do hyperparameter tuning, this is sometimes known as a Test set (in this cases the test set used for training is known as validation set, yeah, it's confusing, but you can read about it [here](https://machinelearningmastery.com/difference-test-validation-datasets/))"
      ]
    },
    {
      "cell_type": "markdown",
      "id": "9da9e93b-6265-44e4-89be-75e7178800e2",
      "metadata": {
        "id": "9da9e93b-6265-44e4-89be-75e7178800e2"
      },
      "source": [
        "2.10. Load the dataset [all_nba_2018_dataset.csv](https://raw.githubusercontent.com/anyoneai/notebooks/main/datasets/all_nba_2018_dataset.csv) in one dataframe and [all_nba_2018_selections.csv](https://raw.githubusercontent.com/anyoneai/notebooks/main/datasets/all_nba_2018_selections.csv)) in another, then:\n",
        "\n",
        "    - Scale the numerical features. Columns season_id, player_id, player_season, player, season and season_start will not be used for prediction, you can keep them but remember not to pass them to the classifier.\n",
        "    \n",
        "    - Create the one hot encoded features for team. This step will be complex, as you will have to consider that in the 2018 season there are 30 teams, but the previous dataset contains 40 teams, that is because a lot of teams changed names or cities over the years. You need to add those 10 different team names in this dataset (with all values in 0) to make the classifier work."
      ]
    },
    {
      "cell_type": "code",
      "execution_count": null,
      "id": "79ea153a-b061-4df9-9c3d-1aaa0526c700",
      "metadata": {
        "id": "79ea153a-b061-4df9-9c3d-1aaa0526c700"
      },
      "outputs": [],
      "source": [
        "all_nba_2018_df = pd.read_csv(\"https://raw.githubusercontent.com/anyoneai/notebooks/main/datasets/all_nba_2018_dataset.csv\", index_col=0)\n",
        "all_nba_2018_selections = pd.read_csv(\"https://raw.githubusercontent.com/anyoneai/notebooks/main/datasets/all_nba_2018_selections.csv\", index_col=0)"
      ]
    },
    {
      "cell_type": "code",
      "execution_count": null,
      "id": "d0fb19ac",
      "metadata": {
        "id": "d0fb19ac"
      },
      "outputs": [],
      "source": [
        "X_nba = all_nba_2018_df[['team', 'games', 'gamesstarted', 'mp', 'fg_perc',\n",
        "       '3p_perc', '2p_perc', 'ft_perc', 'trb', 'ast', 'stl', 'blk', 'tov',\n",
        "       'pf', 'pts']].copy()\n",
        "\n",
        "\n",
        "columns_names = [\"games\",\"gamesstarted\",\"mp\",\"fg_perc\",\"3p_perc\",\"2p_perc\",\"ft_perc\",\"trb\",\"ast\",\"stl\",\"blk\",\"tov\",\"pf\", \"pts\"]\n",
        "\n",
        "features = X_nba[columns_names]\n",
        "\n",
        "scaler = StandardScaler()\n",
        "X_nba[columns_names] = scaler.fit_transform(features.values)\n"
      ]
    },
    {
      "cell_type": "code",
      "execution_count": null,
      "id": "0cf001d5",
      "metadata": {
        "id": "0cf001d5",
        "outputId": "64aee7dd-fe22-442a-e61b-b61bcf76e0b3"
      },
      "outputs": [
        {
          "data": {
            "text/plain": [
              "array(['OKC', 'PHO', 'ATL', 'MIA', 'CLE', 'DEN', 'SAS', 'CHI', 'UTA',\n",
              "       'BRK', 'NYK', 'POR', 'MEM', 'TOT', 'IND', 'MIL', 'DAL', 'HOU',\n",
              "       'TOR', 'ORL', 'CHO', 'SAC', 'LAL', 'MIN', 'BOS', 'WAS', 'GSW',\n",
              "       'NOP', 'LAC', 'PHI', 'DET'], dtype=object)"
            ]
          },
          "execution_count": 744,
          "metadata": {},
          "output_type": "execute_result"
        }
      ],
      "source": [
        "all_nba_2018_df[\"team\"].unique()\n",
        " "
      ]
    },
    {
      "cell_type": "code",
      "execution_count": null,
      "id": "bba8ebf8",
      "metadata": {
        "id": "bba8ebf8",
        "outputId": "cccc39c6-2d83-4522-bee1-7496d5b928ae"
      },
      "outputs": [
        {
          "data": {
            "text/plain": [
              "array(['POR', 'TOT', 'BOS', 'DEN', 'SAC', 'VAN', 'DAL', 'ATL', 'OKC',\n",
              "       'DET', 'ORL', 'TOR', 'NYK', 'BRK', 'WSB', 'CHH', 'NJN', 'MEM',\n",
              "       'PHO', 'MIA', 'GSW', 'HOU', 'CHA', 'MIN', 'LAC', 'SAS', 'UTA',\n",
              "       'NOP', 'PHI', 'WAS', 'NOH', 'MIL', 'CHI', 'SEA', 'IND', 'CLE',\n",
              "       'NOK', 'SDC', 'LAL', 'CHO', 'KCK'], dtype=object)"
            ]
          },
          "execution_count": 745,
          "metadata": {},
          "output_type": "execute_result"
        }
      ],
      "source": [
        "all_nba_df[\"team\"].unique()"
      ]
    },
    {
      "cell_type": "code",
      "execution_count": null,
      "id": "e12a51e3",
      "metadata": {
        "id": "e12a51e3"
      },
      "outputs": [],
      "source": [
        "#VAN WSB CHH NJN CHA 'NOH' 'SEA' NOK SDC KCK"
      ]
    },
    {
      "cell_type": "code",
      "execution_count": null,
      "id": "e6555262",
      "metadata": {
        "id": "e6555262"
      },
      "outputs": [],
      "source": [
        "scale_mapper = {'VAN':0, 'WSB':0, 'CHH':0, \"NJN\":0, \"CHA\":0, \"NOH\":0, \"SEA\":0, \"NOK\":0, \"SDK\":0, \"KCK\":0, 'OKC':1, 'PHO':2, 'ATL':3, 'MIA':4, 'CLE':5, 'DEN':6, 'SAS':7, 'CHI':8, 'UTA':9,\n",
        "       'BRK':10, 'NYK':11, 'POR':12, 'MEM':13, 'TOT':14, 'IND':15, 'MIL':16, 'DAL':17, 'HOU':18,\n",
        "       'TOR':19, 'ORL':20, 'CHO':21, 'SAC':22, 'LAL':23, 'MIN':24, 'BOS':25, 'WAS':26, 'GSW':27,\n",
        "       'NOP':28, 'LAC':29, 'PHI':30, 'DET':31}\n",
        "X_nba[\"team\"] = X_nba[\"team\"].replace(scale_mapper)\n"
      ]
    },
    {
      "cell_type": "markdown",
      "id": "8b0bb296-b1b3-4ae4-b199-b11224c78a82",
      "metadata": {
        "id": "8b0bb296-b1b3-4ae4-b199-b11224c78a82"
      },
      "source": [
        "2.11. Predict and evaluate the model using precision, recall and f1 score. "
      ]
    },
    {
      "cell_type": "code",
      "execution_count": null,
      "id": "918331a7",
      "metadata": {
        "id": "918331a7",
        "outputId": "520b9893-1687-413c-f132-41cced8d0c2d"
      },
      "outputs": [
        {
          "name": "stdout",
          "output_type": "stream",
          "text": [
            "Precision score: 0.6666666666666666\n",
            "Recall:  0.9333333333333333\n",
            "F1 0.7777777777777778\n"
          ]
        }
      ],
      "source": [
        "test_predict = model_nba.predict(X_nba)\n",
        "print(\"Precision score:\", precision_score(all_nba_2018_selections.all_nba, test_predict))\n",
        "print(\"Recall: \", recall_score(all_nba_2018_selections.all_nba, test_predict))\n",
        "print(\"F1\", f1_score(all_nba_2018_selections.all_nba, test_predict))\n"
      ]
    },
    {
      "cell_type": "markdown",
      "id": "be98174e-4d1b-407d-8ecc-dd568f6e5368",
      "metadata": {
        "id": "be98174e-4d1b-407d-8ecc-dd568f6e5368"
      },
      "source": [
        "2.12. Analyze the results, what do you think it is happening?"
      ]
    },
    {
      "cell_type": "markdown",
      "id": "d9c3ea6d",
      "metadata": {
        "id": "d9c3ea6d"
      },
      "source": [
        "The model gives many more selected than it should\n"
      ]
    },
    {
      "cell_type": "markdown",
      "id": "77a8c607-5df7-43d2-8365-cbbb6f2b93e1",
      "metadata": {
        "id": "77a8c607-5df7-43d2-8365-cbbb6f2b93e1"
      },
      "source": [
        "#### Creating our custom Classifier"
      ]
    },
    {
      "cell_type": "markdown",
      "id": "21dc0d0a-1d15-4f9e-b3ed-f83df1f51ce0",
      "metadata": {
        "id": "21dc0d0a-1d15-4f9e-b3ed-f83df1f51ce0"
      },
      "source": [
        "One thing to consider in this problem, is that the number of ALl NBA selections is fixed each year, a total of 15 players are always selected. But our current model does not limit the number of positive classified players. So, we will have to wrap our model in a custom classifier that only returns as positive the 15 players with the higher probabilities. \n",
        "Fortunately, our chosen model provides access to the underlying probabilities."
      ]
    },
    {
      "cell_type": "markdown",
      "id": "e22326d3-c1ae-475b-9b31-7b02876f8bbc",
      "metadata": {
        "id": "e22326d3-c1ae-475b-9b31-7b02876f8bbc"
      },
      "source": [
        "2.13. Using the trained model, predict probabilities for all rows in the dataset, and create a new column that has the probability that the player was selected as all nba. Round the probability to 3 decimals."
      ]
    },
    {
      "cell_type": "code",
      "execution_count": null,
      "id": "fddf0631-d676-485d-9748-a688e854c9f2",
      "metadata": {
        "id": "fddf0631-d676-485d-9748-a688e854c9f2"
      },
      "outputs": [],
      "source": [
        "test_predict = model_nba.predict_proba(X_nba) \n",
        "selected = all_nba_2018_selections\n",
        "test_predict = pd.DataFrame(test_predict)\n",
        "selected.reset_index(inplace=True)\n",
        "selected = selected.join(test_predict)\n",
        "selected.drop(columns=[0], inplace=True)\n",
        "selected.columns = [\"index\",\"player_id\",\"player\",\"all_nba\",\"Selected_prob\"]\n",
        "selected['Selected_prob'] = selected['Selected_prob'].round(decimals = 2)"
      ]
    },
    {
      "cell_type": "markdown",
      "id": "c1e5edbf-faee-4773-a114-eed5eab89242",
      "metadata": {
        "id": "c1e5edbf-faee-4773-a114-eed5eab89242"
      },
      "source": [
        "2.14. Sort the dataset by probabilities and show the 15 players with higher probability to have been selected"
      ]
    },
    {
      "cell_type": "code",
      "execution_count": null,
      "id": "02b227db",
      "metadata": {
        "id": "02b227db",
        "outputId": "2d64346c-11a5-40ba-897d-f2f8b9a8fe6f"
      },
      "outputs": [
        {
          "data": {
            "text/html": [
              "<div>\n",
              "<style scoped>\n",
              "    .dataframe tbody tr th:only-of-type {\n",
              "        vertical-align: middle;\n",
              "    }\n",
              "\n",
              "    .dataframe tbody tr th {\n",
              "        vertical-align: top;\n",
              "    }\n",
              "\n",
              "    .dataframe thead th {\n",
              "        text-align: right;\n",
              "    }\n",
              "</style>\n",
              "<table border=\"1\" class=\"dataframe\">\n",
              "  <thead>\n",
              "    <tr style=\"text-align: right;\">\n",
              "      <th></th>\n",
              "      <th>index</th>\n",
              "      <th>player_id</th>\n",
              "      <th>player</th>\n",
              "      <th>all_nba</th>\n",
              "      <th>Selected_prob</th>\n",
              "    </tr>\n",
              "  </thead>\n",
              "  <tbody>\n",
              "    <tr>\n",
              "      <th>17</th>\n",
              "      <td>453</td>\n",
              "      <td>83</td>\n",
              "      <td>Giannis Antetokounmpo</td>\n",
              "      <td>1</td>\n",
              "      <td>1.00</td>\n",
              "    </tr>\n",
              "    <tr>\n",
              "      <th>125</th>\n",
              "      <td>3401</td>\n",
              "      <td>587</td>\n",
              "      <td>Anthony Davis</td>\n",
              "      <td>0</td>\n",
              "      <td>1.00</td>\n",
              "    </tr>\n",
              "    <tr>\n",
              "      <th>205</th>\n",
              "      <td>5604</td>\n",
              "      <td>1024</td>\n",
              "      <td>James Harden</td>\n",
              "      <td>1</td>\n",
              "      <td>0.99</td>\n",
              "    </tr>\n",
              "    <tr>\n",
              "      <th>257</th>\n",
              "      <td>6857</td>\n",
              "      <td>1240</td>\n",
              "      <td>LeBron James</td>\n",
              "      <td>1</td>\n",
              "      <td>0.99</td>\n",
              "    </tr>\n",
              "    <tr>\n",
              "      <th>154</th>\n",
              "      <td>4145</td>\n",
              "      <td>740</td>\n",
              "      <td>Joel Embiid</td>\n",
              "      <td>1</td>\n",
              "      <td>0.96</td>\n",
              "    </tr>\n",
              "    <tr>\n",
              "      <th>149</th>\n",
              "      <td>3908</td>\n",
              "      <td>695</td>\n",
              "      <td>Kevin Durant</td>\n",
              "      <td>1</td>\n",
              "      <td>0.95</td>\n",
              "    </tr>\n",
              "    <tr>\n",
              "      <th>491</th>\n",
              "      <td>14027</td>\n",
              "      <td>2572</td>\n",
              "      <td>Nikola Vucevic</td>\n",
              "      <td>0</td>\n",
              "      <td>0.93</td>\n",
              "    </tr>\n",
              "    <tr>\n",
              "      <th>479</th>\n",
              "      <td>13673</td>\n",
              "      <td>2501</td>\n",
              "      <td>Karl-Anthony Towns</td>\n",
              "      <td>0</td>\n",
              "      <td>0.91</td>\n",
              "    </tr>\n",
              "    <tr>\n",
              "      <th>268</th>\n",
              "      <td>7225</td>\n",
              "      <td>1315</td>\n",
              "      <td>Nikola Jokic</td>\n",
              "      <td>1</td>\n",
              "      <td>0.89</td>\n",
              "    </tr>\n",
              "    <tr>\n",
              "      <th>505</th>\n",
              "      <td>14479</td>\n",
              "      <td>2648</td>\n",
              "      <td>Russell Westbrook</td>\n",
              "      <td>1</td>\n",
              "      <td>0.89</td>\n",
              "    </tr>\n",
              "    <tr>\n",
              "      <th>186</th>\n",
              "      <td>5016</td>\n",
              "      <td>909</td>\n",
              "      <td>Rudy Gobert</td>\n",
              "      <td>1</td>\n",
              "      <td>0.89</td>\n",
              "    </tr>\n",
              "    <tr>\n",
              "      <th>300</th>\n",
              "      <td>8103</td>\n",
              "      <td>1492</td>\n",
              "      <td>Kawhi Leonard</td>\n",
              "      <td>1</td>\n",
              "      <td>0.82</td>\n",
              "    </tr>\n",
              "    <tr>\n",
              "      <th>182</th>\n",
              "      <td>4895</td>\n",
              "      <td>884</td>\n",
              "      <td>Paul George</td>\n",
              "      <td>1</td>\n",
              "      <td>0.74</td>\n",
              "    </tr>\n",
              "    <tr>\n",
              "      <th>304</th>\n",
              "      <td>8206</td>\n",
              "      <td>1511</td>\n",
              "      <td>Damian Lillard</td>\n",
              "      <td>1</td>\n",
              "      <td>0.69</td>\n",
              "    </tr>\n",
              "    <tr>\n",
              "      <th>39</th>\n",
              "      <td>1048</td>\n",
              "      <td>179</td>\n",
              "      <td>Bradley Beal</td>\n",
              "      <td>0</td>\n",
              "      <td>0.68</td>\n",
              "    </tr>\n",
              "  </tbody>\n",
              "</table>\n",
              "</div>"
            ],
            "text/plain": [
              "     index  player_id                 player  all_nba  Selected_prob\n",
              "17     453         83  Giannis Antetokounmpo        1           1.00\n",
              "125   3401        587          Anthony Davis        0           1.00\n",
              "205   5604       1024           James Harden        1           0.99\n",
              "257   6857       1240           LeBron James        1           0.99\n",
              "154   4145        740            Joel Embiid        1           0.96\n",
              "149   3908        695           Kevin Durant        1           0.95\n",
              "491  14027       2572         Nikola Vucevic        0           0.93\n",
              "479  13673       2501     Karl-Anthony Towns        0           0.91\n",
              "268   7225       1315           Nikola Jokic        1           0.89\n",
              "505  14479       2648      Russell Westbrook        1           0.89\n",
              "186   5016        909            Rudy Gobert        1           0.89\n",
              "300   8103       1492          Kawhi Leonard        1           0.82\n",
              "182   4895        884            Paul George        1           0.74\n",
              "304   8206       1511         Damian Lillard        1           0.69\n",
              "39    1048        179           Bradley Beal        0           0.68"
            ]
          },
          "execution_count": 750,
          "metadata": {},
          "output_type": "execute_result"
        }
      ],
      "source": [
        "selected.sort_values(\"Selected_prob\", ascending=False).head(15)"
      ]
    },
    {
      "cell_type": "markdown",
      "id": "1c27683b-0256-40c5-929c-d5ed6cdf6d1f",
      "metadata": {
        "id": "1c27683b-0256-40c5-929c-d5ed6cdf6d1f"
      },
      "source": [
        "2.15. Print:\n",
        "\n",
        "    - Players actually selected from the all_nba_2018_selections dataset,\n",
        "    - Players actually selected missing from OUR predictions+\n",
        "    - Players in our predictions not selected "
      ]
    },
    {
      "cell_type": "code",
      "execution_count": null,
      "id": "fdbcdcac-43bd-4936-8312-456b3b0bd842",
      "metadata": {
        "id": "fdbcdcac-43bd-4936-8312-456b3b0bd842",
        "outputId": "bba0ed9f-d3cd-4580-e96e-11c28f44d3fa"
      },
      "outputs": [
        {
          "name": "stdout",
          "output_type": "stream",
          "text": [
            "Players actually selected from the all_nba_2018_selections dataset      index  player_id                 player  all_nba\n",
            "17     453         83  Giannis Antetokounmpo        1\n",
            "123   3168        570          Stephen Curry        1\n",
            "149   3908        695           Kevin Durant        1\n",
            "154   4145        740            Joel Embiid        1\n",
            "182   4895        884            Paul George        1\n",
            "186   5016        909            Rudy Gobert        1\n",
            "201   5399        979          Blake Griffin        1\n",
            "205   5604       1024           James Harden        1\n",
            "248   6634       1204           Kyrie Irving        1\n",
            "257   6857       1240           LeBron James        1\n",
            "268   7225       1315           Nikola Jokic        1\n",
            "300   8103       1492          Kawhi Leonard        1\n",
            "304   8206       1511         Damian Lillard        1\n",
            "495  14132       2585           Kemba Walker        1\n",
            "505  14479       2648      Russell Westbrook        1\n"
          ]
        }
      ],
      "source": [
        "print(\"Players actually selected from the all_nba_2018_selections dataset\", all_nba_2018_selections.loc[all_nba_2018_selections.all_nba == 1])"
      ]
    },
    {
      "cell_type": "code",
      "execution_count": null,
      "id": "50690c06",
      "metadata": {
        "id": "50690c06",
        "outputId": "7d7147b7-d8e3-4faa-d300-5443a6edf658"
      },
      "outputs": [
        {
          "name": "stdout",
          "output_type": "stream",
          "text": [
            "Players actually selected missing from OUR predictions+:      index  player_id         player  all_nba  Selected_prob\n",
            "123   3168        570  Stephen Curry        1           0.68\n",
            "248   6634       1204   Kyrie Irving        1           0.67\n",
            "495  14132       2585   Kemba Walker        1           0.61\n",
            "201   5399        979  Blake Griffin        1           0.36\n"
          ]
        }
      ],
      "source": [
        "print(\"Players actually selected missing from OUR predictions+:\", selected.sort_values(\"Selected_prob\", ascending=False)[15:].loc[selected.all_nba==1])\n"
      ]
    },
    {
      "cell_type": "code",
      "execution_count": null,
      "id": "2050d01b",
      "metadata": {
        "id": "2050d01b",
        "outputId": "1d24e854-0389-48db-e06e-f10d1d7e1dfb"
      },
      "outputs": [
        {
          "name": "stdout",
          "output_type": "stream",
          "text": [
            " Players in our predictions not selected :      index  player_id                   player  all_nba  Selected_prob\n",
            "146   3794        682           Andre Drummond        0           0.63\n",
            "88    2274        405             Clint Capela        0           0.54\n",
            "229   6218       1131             Jrue Holiday        0           0.53\n",
            "447  12473       2267              Ben Simmons        0           0.49\n",
            "7      168         30        LaMarcus Aldridge        0           0.45\n",
            "..     ...        ...                      ...      ...            ...\n",
            "187   5057        917          Brandon Goodwin        0           0.00\n",
            "185   4925        895  Shai Gilgeous-Alexander        0           0.00\n",
            "184   4924        894              Harry Giles        0           0.00\n",
            "183   4920        891               Taj Gibson        0           0.00\n",
            "529  15354       2820              Ivica Zubac        0           0.00\n",
            "\n",
            "[511 rows x 5 columns]\n"
          ]
        }
      ],
      "source": [
        "print(\" Players in our predictions not selected :\", selected.sort_values(\"Selected_prob\", ascending=False)[15:].loc[selected.all_nba==0])\n"
      ]
    },
    {
      "cell_type": "markdown",
      "id": "66b994d0-d37a-43c2-a38f-ea5e86afa512",
      "metadata": {
        "id": "66b994d0-d37a-43c2-a38f-ea5e86afa512"
      },
      "source": [
        "2.16. Create a class named AllNbaSingleSeasonClassifier that takes a scikit learn model in the constructor, then implements a predict method that returns predictions with only the 15 most probable selections."
      ]
    },
    {
      "cell_type": "code",
      "execution_count": null,
      "id": "f65c65f4",
      "metadata": {
        "id": "f65c65f4"
      },
      "outputs": [],
      "source": [
        "class AllNbaSingleSeasonClassifier():\n",
        "    def __init__(self, model):\n",
        "        \"\"\"\n",
        "        Class constructor\n",
        "\n",
        "        Parameters\n",
        "        ----------\n",
        "        model: BaseEstimator\n",
        "            a Scikit learn estimator\n",
        "        \"\"\"\n",
        "        self._model = model\n",
        "\n",
        "    def predict(self, X):\n",
        "        \"\"\"\n",
        "        Predicts all nba selections. This classifier will limit the number\n",
        "        of positive instances to 15\n",
        "\n",
        "        Parameters\n",
        "        ----------\n",
        "        X: pd.DataFrame\n",
        "            a dataframe with the players data\n",
        "\n",
        "        Returns\n",
        "        -------\n",
        "        np.ndarray\n",
        "            An array of the same length as y, with 15 true results based on the players with most probabilities of\n",
        "            beign selected\n",
        "        \"\"\"\n",
        "        \n",
        "        allnba_pred = (self._model).predict_proba(X_nba)\n",
        "        selection = all_nba_2018_selections\n",
        "        test_predict = pd.DataFrame(allnba_pred)\n",
        "        selection.reset_index(inplace=True)\n",
        "        selection = selection.join(test_predict)\n",
        "        selection.drop(columns=[\"index\",0], inplace=True)\n",
        "        selection.columns = [\"player_id\",\"player_id\",\"player_name\",\"all_nba\", \"Selected_prob\"]\n",
        "        selection = selected.sort_values(\"Selected_prob\", ascending=False)\n",
        "        selection.drop(columns=[\"player_id\"], inplace=True)\n",
        "        selection['Selected_prob'] = selected['Selected_prob'].round(decimals = 2)\n",
        "        return selection.head(15)\n",
        "        \n",
        " "
      ]
    },
    {
      "cell_type": "markdown",
      "id": "0d83848f-8132-4205-bc18-88b8a5f07555",
      "metadata": {
        "id": "0d83848f-8132-4205-bc18-88b8a5f07555"
      },
      "source": [
        "2.17. Use the new classifier to make predictions and evaluate the result with precision, recall and f1"
      ]
    },
    {
      "cell_type": "code",
      "execution_count": null,
      "id": "f33558fb",
      "metadata": {
        "id": "f33558fb"
      },
      "outputs": [],
      "source": [
        "predictor = AllNbaSingleSeasonClassifier(model_nba)"
      ]
    },
    {
      "cell_type": "code",
      "execution_count": null,
      "id": "cf8554d7",
      "metadata": {
        "id": "cf8554d7"
      },
      "outputs": [],
      "source": [
        "sel_players = predictor.predict(all_nba_2018_df)\n"
      ]
    },
    {
      "cell_type": "code",
      "execution_count": null,
      "id": "2a79ee52",
      "metadata": {
        "id": "2a79ee52",
        "outputId": "1957d309-b5d4-4f04-e657-7b81c5fb738b"
      },
      "outputs": [
        {
          "data": {
            "text/html": [
              "<div>\n",
              "<style scoped>\n",
              "    .dataframe tbody tr th:only-of-type {\n",
              "        vertical-align: middle;\n",
              "    }\n",
              "\n",
              "    .dataframe tbody tr th {\n",
              "        vertical-align: top;\n",
              "    }\n",
              "\n",
              "    .dataframe thead th {\n",
              "        text-align: right;\n",
              "    }\n",
              "</style>\n",
              "<table border=\"1\" class=\"dataframe\">\n",
              "  <thead>\n",
              "    <tr style=\"text-align: right;\">\n",
              "      <th></th>\n",
              "      <th>player</th>\n",
              "      <th>all_nba</th>\n",
              "      <th>Selected_prob</th>\n",
              "    </tr>\n",
              "  </thead>\n",
              "  <tbody>\n",
              "    <tr>\n",
              "      <th>17</th>\n",
              "      <td>Giannis Antetokounmpo</td>\n",
              "      <td>1</td>\n",
              "      <td>1.00</td>\n",
              "    </tr>\n",
              "    <tr>\n",
              "      <th>125</th>\n",
              "      <td>Anthony Davis</td>\n",
              "      <td>0</td>\n",
              "      <td>1.00</td>\n",
              "    </tr>\n",
              "    <tr>\n",
              "      <th>205</th>\n",
              "      <td>James Harden</td>\n",
              "      <td>1</td>\n",
              "      <td>0.99</td>\n",
              "    </tr>\n",
              "    <tr>\n",
              "      <th>257</th>\n",
              "      <td>LeBron James</td>\n",
              "      <td>1</td>\n",
              "      <td>0.99</td>\n",
              "    </tr>\n",
              "    <tr>\n",
              "      <th>154</th>\n",
              "      <td>Joel Embiid</td>\n",
              "      <td>1</td>\n",
              "      <td>0.96</td>\n",
              "    </tr>\n",
              "    <tr>\n",
              "      <th>149</th>\n",
              "      <td>Kevin Durant</td>\n",
              "      <td>1</td>\n",
              "      <td>0.95</td>\n",
              "    </tr>\n",
              "    <tr>\n",
              "      <th>491</th>\n",
              "      <td>Nikola Vucevic</td>\n",
              "      <td>0</td>\n",
              "      <td>0.93</td>\n",
              "    </tr>\n",
              "    <tr>\n",
              "      <th>479</th>\n",
              "      <td>Karl-Anthony Towns</td>\n",
              "      <td>0</td>\n",
              "      <td>0.91</td>\n",
              "    </tr>\n",
              "    <tr>\n",
              "      <th>268</th>\n",
              "      <td>Nikola Jokic</td>\n",
              "      <td>1</td>\n",
              "      <td>0.89</td>\n",
              "    </tr>\n",
              "    <tr>\n",
              "      <th>505</th>\n",
              "      <td>Russell Westbrook</td>\n",
              "      <td>1</td>\n",
              "      <td>0.89</td>\n",
              "    </tr>\n",
              "    <tr>\n",
              "      <th>186</th>\n",
              "      <td>Rudy Gobert</td>\n",
              "      <td>1</td>\n",
              "      <td>0.89</td>\n",
              "    </tr>\n",
              "    <tr>\n",
              "      <th>300</th>\n",
              "      <td>Kawhi Leonard</td>\n",
              "      <td>1</td>\n",
              "      <td>0.82</td>\n",
              "    </tr>\n",
              "    <tr>\n",
              "      <th>182</th>\n",
              "      <td>Paul George</td>\n",
              "      <td>1</td>\n",
              "      <td>0.74</td>\n",
              "    </tr>\n",
              "    <tr>\n",
              "      <th>304</th>\n",
              "      <td>Damian Lillard</td>\n",
              "      <td>1</td>\n",
              "      <td>0.69</td>\n",
              "    </tr>\n",
              "    <tr>\n",
              "      <th>39</th>\n",
              "      <td>Bradley Beal</td>\n",
              "      <td>0</td>\n",
              "      <td>0.68</td>\n",
              "    </tr>\n",
              "  </tbody>\n",
              "</table>\n",
              "</div>"
            ],
            "text/plain": [
              "                    player  all_nba  Selected_prob\n",
              "17   Giannis Antetokounmpo        1           1.00\n",
              "125          Anthony Davis        0           1.00\n",
              "205           James Harden        1           0.99\n",
              "257           LeBron James        1           0.99\n",
              "154            Joel Embiid        1           0.96\n",
              "149           Kevin Durant        1           0.95\n",
              "491         Nikola Vucevic        0           0.93\n",
              "479     Karl-Anthony Towns        0           0.91\n",
              "268           Nikola Jokic        1           0.89\n",
              "505      Russell Westbrook        1           0.89\n",
              "186            Rudy Gobert        1           0.89\n",
              "300          Kawhi Leonard        1           0.82\n",
              "182            Paul George        1           0.74\n",
              "304         Damian Lillard        1           0.69\n",
              "39            Bradley Beal        0           0.68"
            ]
          },
          "execution_count": 757,
          "metadata": {},
          "output_type": "execute_result"
        }
      ],
      "source": [
        "sel_players.drop(columns=[\"index\"], inplace=True)\n",
        "sel_players"
      ]
    },
    {
      "cell_type": "code",
      "execution_count": null,
      "id": "d6e49f8e",
      "metadata": {
        "scrolled": true,
        "id": "d6e49f8e",
        "outputId": "8a82622b-1330-414a-a4f6-e0805a24fc26"
      },
      "outputs": [
        {
          "data": {
            "text/html": [
              "<div>\n",
              "<style scoped>\n",
              "    .dataframe tbody tr th:only-of-type {\n",
              "        vertical-align: middle;\n",
              "    }\n",
              "\n",
              "    .dataframe tbody tr th {\n",
              "        vertical-align: top;\n",
              "    }\n",
              "\n",
              "    .dataframe thead th {\n",
              "        text-align: right;\n",
              "    }\n",
              "</style>\n",
              "<table border=\"1\" class=\"dataframe\">\n",
              "  <thead>\n",
              "    <tr style=\"text-align: right;\">\n",
              "      <th></th>\n",
              "      <th>player</th>\n",
              "      <th>all_nba</th>\n",
              "    </tr>\n",
              "    <tr>\n",
              "      <th>level_0</th>\n",
              "      <th></th>\n",
              "      <th></th>\n",
              "    </tr>\n",
              "  </thead>\n",
              "  <tbody>\n",
              "    <tr>\n",
              "      <th>17</th>\n",
              "      <td>Giannis Antetokounmpo</td>\n",
              "      <td>1</td>\n",
              "    </tr>\n",
              "    <tr>\n",
              "      <th>123</th>\n",
              "      <td>Stephen Curry</td>\n",
              "      <td>1</td>\n",
              "    </tr>\n",
              "    <tr>\n",
              "      <th>149</th>\n",
              "      <td>Kevin Durant</td>\n",
              "      <td>1</td>\n",
              "    </tr>\n",
              "    <tr>\n",
              "      <th>154</th>\n",
              "      <td>Joel Embiid</td>\n",
              "      <td>1</td>\n",
              "    </tr>\n",
              "    <tr>\n",
              "      <th>182</th>\n",
              "      <td>Paul George</td>\n",
              "      <td>1</td>\n",
              "    </tr>\n",
              "    <tr>\n",
              "      <th>186</th>\n",
              "      <td>Rudy Gobert</td>\n",
              "      <td>1</td>\n",
              "    </tr>\n",
              "    <tr>\n",
              "      <th>201</th>\n",
              "      <td>Blake Griffin</td>\n",
              "      <td>1</td>\n",
              "    </tr>\n",
              "    <tr>\n",
              "      <th>205</th>\n",
              "      <td>James Harden</td>\n",
              "      <td>1</td>\n",
              "    </tr>\n",
              "    <tr>\n",
              "      <th>248</th>\n",
              "      <td>Kyrie Irving</td>\n",
              "      <td>1</td>\n",
              "    </tr>\n",
              "    <tr>\n",
              "      <th>257</th>\n",
              "      <td>LeBron James</td>\n",
              "      <td>1</td>\n",
              "    </tr>\n",
              "    <tr>\n",
              "      <th>268</th>\n",
              "      <td>Nikola Jokic</td>\n",
              "      <td>1</td>\n",
              "    </tr>\n",
              "    <tr>\n",
              "      <th>300</th>\n",
              "      <td>Kawhi Leonard</td>\n",
              "      <td>1</td>\n",
              "    </tr>\n",
              "    <tr>\n",
              "      <th>304</th>\n",
              "      <td>Damian Lillard</td>\n",
              "      <td>1</td>\n",
              "    </tr>\n",
              "    <tr>\n",
              "      <th>495</th>\n",
              "      <td>Kemba Walker</td>\n",
              "      <td>1</td>\n",
              "    </tr>\n",
              "    <tr>\n",
              "      <th>505</th>\n",
              "      <td>Russell Westbrook</td>\n",
              "      <td>1</td>\n",
              "    </tr>\n",
              "  </tbody>\n",
              "</table>\n",
              "</div>"
            ],
            "text/plain": [
              "                        player  all_nba\n",
              "level_0                                \n",
              "17       Giannis Antetokounmpo        1\n",
              "123              Stephen Curry        1\n",
              "149               Kevin Durant        1\n",
              "154                Joel Embiid        1\n",
              "182                Paul George        1\n",
              "186                Rudy Gobert        1\n",
              "201              Blake Griffin        1\n",
              "205               James Harden        1\n",
              "248               Kyrie Irving        1\n",
              "257               LeBron James        1\n",
              "268               Nikola Jokic        1\n",
              "300              Kawhi Leonard        1\n",
              "304             Damian Lillard        1\n",
              "495               Kemba Walker        1\n",
              "505          Russell Westbrook        1"
            ]
          },
          "execution_count": 758,
          "metadata": {},
          "output_type": "execute_result"
        }
      ],
      "source": [
        "a = all_nba_2018_selections.loc[all_nba_2018_selections.all_nba == 1]\n",
        "a.set_index([\"level_0\"], inplace = True)\n",
        "a.drop(columns=[\"player_id\", \"index\"], inplace=True)\n",
        "a"
      ]
    },
    {
      "cell_type": "code",
      "execution_count": null,
      "id": "06bfaca3",
      "metadata": {
        "id": "06bfaca3",
        "outputId": "ac598cc9-f407-4261-f991-0f5d1b5c9d40"
      },
      "outputs": [
        {
          "name": "stdout",
          "output_type": "stream",
          "text": [
            "Precision score:  0.75\n",
            "Recall:  0.75\n",
            "F1: 0.75\n"
          ]
        }
      ],
      "source": [
        "print(\"Precision score: \", 12 / (12+4))\n",
        "print(\"Recall: \", 12 / (12+4))\n",
        "f1 = 2 * (0.75 * 0.75) / (0.75+ 0.75)\n",
        "f1 = round(f1, 2)\n",
        "print(\"F1:\", f1)"
      ]
    },
    {
      "cell_type": "markdown",
      "id": "1dd382f9-9640-47ce-a077-41c8baeb2d9f",
      "metadata": {
        "id": "1dd382f9-9640-47ce-a077-41c8baeb2d9f",
        "tags": []
      },
      "source": [
        "#### Analyzing our results"
      ]
    },
    {
      "cell_type": "markdown",
      "id": "f4eb9454-b0d5-40f0-8cb3-0af1ce8ade34",
      "metadata": {
        "id": "f4eb9454-b0d5-40f0-8cb3-0af1ce8ade34"
      },
      "source": [
        "2.18. What do you think it is the main problem with this dataset and the way we trained our model?"
      ]
    },
    {
      "cell_type": "markdown",
      "id": "fa5889d9",
      "metadata": {
        "id": "fa5889d9"
      },
      "source": [
        "The main problem is that the data set is very unbalanced between the train and the test."
      ]
    },
    {
      "cell_type": "markdown",
      "id": "e81ac1ea-75ab-4fee-8148-20a4ea663791",
      "metadata": {
        "id": "e81ac1ea-75ab-4fee-8148-20a4ea663791"
      },
      "source": [
        "2.19. What do you think we could do to improve our model?"
      ]
    },
    {
      "cell_type": "markdown",
      "id": "1bf2f743",
      "metadata": {
        "id": "1bf2f743"
      },
      "source": [
        "I think we can improve it by trying to remove the stats that don't add much and get more information from the players and maybe remove some players that weren't selected to balance the dataset."
      ]
    }
  ],
  "metadata": {
    "colab": {
      "name": "AnyoneAI_Project_2",
      "provenance": []
    },
    "kernelspec": {
      "display_name": "Python 3",
      "language": "python",
      "name": "python3"
    },
    "language_info": {
      "codemirror_mode": {
        "name": "ipython",
        "version": 3
      },
      "file_extension": ".py",
      "mimetype": "text/x-python",
      "name": "python",
      "nbconvert_exporter": "python",
      "pygments_lexer": "ipython3",
      "version": "3.8.8"
    }
  },
  "nbformat": 4,
  "nbformat_minor": 5
}